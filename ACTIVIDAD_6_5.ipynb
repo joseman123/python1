{
  "nbformat": 4,
  "nbformat_minor": 0,
  "metadata": {
    "colab": {
      "provenance": [],
      "authorship_tag": "ABX9TyPMpxXEODinEmtToFa7F1dn",
      "include_colab_link": true
    },
    "kernelspec": {
      "name": "python3",
      "display_name": "Python 3"
    },
    "language_info": {
      "name": "python"
    }
  },
  "cells": [
    {
      "cell_type": "markdown",
      "metadata": {
        "id": "view-in-github",
        "colab_type": "text"
      },
      "source": [
        "<a href=\"https://colab.research.google.com/github/joseman123/python1/blob/main/ACTIVIDAD_6_5.ipynb\" target=\"_parent\"><img src=\"https://colab.research.google.com/assets/colab-badge.svg\" alt=\"Open In Colab\"/></a>"
      ]
    },
    {
      "cell_type": "markdown",
      "source": [
        "5.- FUNCION QUE SIRVA QUE SIRVA PARA EVALUAR EL PROMEDIO DE 3 CALIFICACIONES DADAS, SI EL USUARIO SU CALIFICACION ES APROBADA MANDAR MSGE QUE DIGA \"felicidades avanzas al siguiente semestre\", SI LA CALIFICACIONE ESTA REPROBADA EL MENSAGE \"repetir materia \" EL ALUMNO TENDRA UN MAXIMO DE CURSAR 3 VESES LA MATERIA, SI LA REPRUEBA 3 VESES MANDAR MSGE \" lastima estas fuera de la UABC\""
      ],
      "metadata": {
        "id": "VnDBaCX34oaq"
      }
    },
    {
      "cell_type": "code",
      "source": [
        "import random"
      ],
      "metadata": {
        "id": "1m3hO_1-4uG_"
      },
      "execution_count": null,
      "outputs": []
    },
    {
      "cell_type": "code",
      "source": [
        "nota_minima = 60.0"
      ],
      "metadata": {
        "id": "S4iuJc2c5Wof"
      },
      "execution_count": null,
      "outputs": []
    },
    {
      "cell_type": "code",
      "source": [
        "reprobaciones = 0\n",
        "\n",
        "while reprobaciones < 3:\n",
        "    \n",
        "    try:\n",
        "        función_valida_num = float(input(\"Ingresa tu promedio: \"))\n",
        "    except ValueError:\n",
        "        print(\"Error: NOSE PERMITEN LETRAS.\")\n",
        "        continue\n",
        "    if función_valida_num >= nota_minima:\n",
        "        print(\"Felicidades avanzas al siguiente semestre.\".format(función_valida_num))\n",
        "        break  \n",
        "    else:\n",
        "        print(\"repetir la materia.\".format(función_valida_num))\n",
        "        reprobaciones += 1\n",
        "\n",
        "    if reprobaciones == 3:\n",
        "            mensaje_de_baja = [\"lastima,estas fuera de la UABC.\".format(función_valida_num)]\n",
        "                             \n",
        "            print(random.choice(mensaje_de_baja))"
      ],
      "metadata": {
        "colab": {
          "base_uri": "https://localhost:8080/"
        },
        "id": "gmaOl5vF5ZyK",
        "outputId": "0940f82b-464d-48ed-ca01-d5dced49ad2e"
      },
      "execution_count": null,
      "outputs": [
        {
          "output_type": "stream",
          "name": "stdout",
          "text": [
            "Ingresa tu promedio: 40\n",
            "repetir la materia.\n",
            "Ingresa tu promedio: 30\n",
            "repetir la materia.\n",
            "Ingresa tu promedio: 20\n",
            "repetir la materia.\n",
            "lastima,estas fuera de la UABC.\n"
          ]
        }
      ]
    }
  ]
}