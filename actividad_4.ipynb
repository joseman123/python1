{
  "nbformat": 4,
  "nbformat_minor": 0,
  "metadata": {
    "colab": {
      "provenance": [],
      "authorship_tag": "ABX9TyO72jU+d1rym8sp38MHxxiK",
      "include_colab_link": true
    },
    "kernelspec": {
      "name": "python3",
      "display_name": "Python 3"
    },
    "language_info": {
      "name": "python"
    }
  },
  "cells": [
    {
      "cell_type": "markdown",
      "metadata": {
        "id": "view-in-github",
        "colab_type": "text"
      },
      "source": [
        "<a href=\"https://colab.research.google.com/github/joseman123/python1/blob/main/actividad_4.ipynb\" target=\"_parent\"><img src=\"https://colab.research.google.com/assets/colab-badge.svg\" alt=\"Open In Colab\"/></a>"
      ]
    },
    {
      "cell_type": "markdown",
      "source": [
        "##ACTIVIDAD 4\n",
        "\n",
        "#PROGRAMACION PYTHON\n",
        "\n",
        "#JOSE MANUEL HERNANDEZ SANTIAGO\n",
        "\n",
        "#MATRICULA:370711\n",
        "\n",
        "#GRUPO:432"
      ],
      "metadata": {
        "id": "kEYzKYh8ApLE"
      }
    },
    {
      "cell_type": "markdown",
      "source": [
        "##REALIZA LOS SIGUIENTES EJERCICIOS USANDO LA FORMA ADECUADA Y USANDO try Except NO DEBERA FALLAR EL PROGRAMA."
      ],
      "metadata": {
        "id": "ZBM_OJFxBKX5"
      }
    },
    {
      "cell_type": "markdown",
      "source": [
        "## 1.- Programa en python   que lea 3 calificaciones calcule el promedio del alumno y desplegar: \n",
        "\n",
        "Si prom < 30 Repetir \n",
        "\n",
        "Si prom >=30 y prom <60 extraordinario \n",
        "\n",
        "Si prom >=60 y prom <70 suficiente \n",
        "\n",
        "Si prom >=70 y prom <80 Regular \n",
        "\n",
        "Si prom >=80 y prom <90 bien \n",
        "\n",
        "Si prom >=90 y prom <98 muy bien \n",
        "\n",
        "Si prom >=98 y prom <=100 excelente \n",
        "\n",
        "Si prom >100 Error en promedio \n",
        "\n",
        "Realizar el algoritmo optimizado"
      ],
      "metadata": {
        "id": "mdfBlvw85mw5"
      }
    },
    {
      "cell_type": "code",
      "execution_count": 14,
      "metadata": {
        "colab": {
          "base_uri": "https://localhost:8080/"
        },
        "id": "GwdmXbwC5hhv",
        "outputId": "f7f6ab9a-68e3-484a-f07b-995b0111b2ca"
      },
      "outputs": [
        {
          "output_type": "stream",
          "name": "stdout",
          "text": [
            "ingrese la calificacion:40\n",
            "ingrese la calificacion:50\n",
            "ingrese la calificacion:100\n",
            "el promedio final es = 63.333333333333336\n",
            "promedio suficiente\n"
          ]
        }
      ],
      "source": [
        "try:\n",
        "    cal1 = int(input(\"ingrese la calificacion:\"))\n",
        "    cal2 = int(input(\"ingrese la calificacion:\"))\n",
        "    cal3 = int(input(\"ingrese la calificacion:\"))\n",
        "    promedio = (cal1+cal2+cal3)/3\n",
        "    print(\"el promedio final es\",\"=\",promedio)\n",
        "\n",
        "    if promedio<30:\n",
        "      print(\"repetir\")\n",
        "    elif promedio>=30 and promedio<60: \n",
        "      print(\"promedio de extraordinario\")\n",
        "    elif promedio>=60 and promedio<70:\n",
        "      print(\"promedio suficiente\")\n",
        "    elif promedio>=70 and promedio<80:\n",
        "      print(\"promedio regular\")\n",
        "    elif promedio>=80 and promedio<90:\n",
        "      print(\"promedio bien\") \n",
        "    elif promedio>=90 and promedio<98:\n",
        "      print(\"promedio muy bien\")\n",
        "    elif promedio>=98 and promedio<=100:\n",
        "      print(\"promedio excelente\")\n",
        "    else:\n",
        "      print(\"error en promedio\")\n",
        "\n",
        "except:\n",
        "  print(\"ERROR,no se ponen letras\")\n",
        "\n",
        "\n",
        "\n",
        "\n"
      ]
    },
    {
      "cell_type": "markdown",
      "source": [
        "##2.- Programa en Python que sirva para calcular el salario semanal de un trabajador donde se obtiene como dato de entrada las horas semanales trabajadas, el salario por hora. \n",
        "\n",
        "El programa deberá calcular el salario normal, salario extra y salario total, considerando lo siguiente: \n",
        "\n",
        "Jornada Normal de 40 horas. \n",
        "El salario normal se considera las horas trabajadas menores o igual a la jornada normal\n",
        "Salario extra se considera las horas trabajadas mayores a la jornada normal y se pagan dobles las primeras 9 y triples a partir de la décima hora extra \n"
      ],
      "metadata": {
        "id": "RDImp5WjJuFL"
      }
    },
    {
      "cell_type": "code",
      "source": [
        "try:\n",
        "    \n",
        "    horas_trabajadas = int(input(\"escriba las horas trabajadas:\"))\n",
        "    salario_por_hora = float(input(\"esciba el salario por hora:\"))\n",
        "\n",
        "    if horas_trabajadas <= 40:\n",
        "     salario_normal = horas_trabajadas*salario_por_hora\n",
        "     horas_extras = 0\n",
        "    else:\n",
        "     salario_normal = 40 * salario_por_hora\n",
        "     horas_extras = horas_trabajadas-40\n",
        "\n",
        "    if horas_extras > 0:\n",
        "     if horas_extras <=9:\n",
        "      salario_extra = horas_extras * salario_por_hora*2\n",
        "     else:\n",
        "      salario_extra = 9*salario_por_hora*2+(horas_extras-9)*salario_por_hora*3\n",
        "\n",
        "    else:\n",
        "     salario_extra:0\n",
        "\n",
        "    salario_total = salario_normal + horas_extras\n",
        "\n",
        "    print(\"el Salario normal es:\",\" = \",\"$\",salario_normal)\n",
        "    print(\"el Salario extra es:\",\" = \",\"$\",salario_extra)\n",
        "    print(\"el Salario total es:\",\" = \",\"$\",salario_total)\n",
        "    print(\"HASTA LUEGO,VUELVA PRONTO.\")\n",
        "\n",
        "except:\n",
        "  print(\"ERROR,no se permiten letras\")"
      ],
      "metadata": {
        "id": "KSxwHm2aJxMT",
        "colab": {
          "base_uri": "https://localhost:8080/"
        },
        "outputId": "7631c223-90da-49a2-9ca4-41134776678a"
      },
      "execution_count": null,
      "outputs": [
        {
          "output_type": "stream",
          "name": "stdout",
          "text": [
            "escriba las horas trabajadas:100\n",
            "esciba el salario por hora:50\n",
            "el Salario normal es:  =  $ 2000.0\n",
            "el Salario extra es:  =  $ 8550.0\n",
            "el Salario total es:  =  $ 2060.0\n",
            "HASTA LUEGO,VUELVA PRONTO.\n"
          ]
        }
      ]
    },
    {
      "cell_type": "markdown",
      "source": [
        "##3.- Programa en Python que sirva para calcular el Total a pagar por consumo de agua, donde el dato de entrada son los M3 de agua consumidos, Tomar en cuenta que se cobra escalonada de la Siguiente manera: \n",
        "\n",
        "Rango1: 0 al 4 M3 $50 x facturación sin importar cuánto consumió en este rango \n",
        "\n",
        "Rango2: 5 a 15 M3 $8.00 x M3 \n",
        "\n",
        "Rango3: 16 a 50 M3 $10.00 x M3 \n",
        "\n",
        "Rango4: 51 M3 en adelante $11.00 x M3 \n",
        "\n",
        "Nota: Desplegar SubTotal, Iva(16%), y Total a pagar."
      ],
      "metadata": {
        "id": "4EqYiNls16H0"
      }
    },
    {
      "cell_type": "code",
      "source": [
        "try:\n",
        "\n",
        "    m3_consumidos = float(input(\"Ingrese los m3 de agua consumidos: \"))\n",
        "\n",
        "    rango1 = 50\n",
        "    rango2 = 8\n",
        "    rango3 = 10\n",
        "    rango4 = 11\n",
        "\n",
        "    subtotal = 0\n",
        "\n",
        "    if m3_consumidos <= 4:\n",
        "        subtotal = rango1\n",
        "    else:\n",
        "        subtotal += rango1 \n",
        "    if m3_consumidos <= 15:\n",
        "        subtotal += (m3_consumidos - 4) * rango2\n",
        "    elif m3_consumidos <= 50:\n",
        "        subtotal += (15 - 4) * rango2 + (m3_consumidos - 15) * rango3\n",
        "    else:\n",
        "        subtotal += (15 - 4) * rango2 + (50 - 15) * rango3 + (m3_consumidos - 50) * rango4\n",
        "\n",
        "    iva = subtotal * 0.16\n",
        "    total = subtotal + iva\n",
        "\n",
        "    print(\"Subtotal a pagar: $\", subtotal)\n",
        "    print(\"IVA (16%): $\", iva)\n",
        "    print(\"Total a pagar: $\", total)\n",
        "\n",
        "except:\n",
        "  print(\"ERROR,no se permiten letras\")"
      ],
      "metadata": {
        "colab": {
          "base_uri": "https://localhost:8080/"
        },
        "id": "j0ixqtEL2I5V",
        "outputId": "4e9b3a10-cc4c-4495-9683-f45d80d0846e"
      },
      "execution_count": 13,
      "outputs": [
        {
          "output_type": "stream",
          "name": "stdout",
          "text": [
            "Ingrese los m3 de agua consumidos: 40\n",
            "Subtotal a pagar: $ 388.0\n",
            "IVA (16%): $ 62.08\n",
            "Total a pagar: $ 450.08\n"
          ]
        }
      ]
    },
    {
      "cell_type": "markdown",
      "source": [
        "##4- En la materia de Metodología de la programación se aplican 5 exámenes, calcular el promedio final de la materia donde la calificación menor de los exámenes se anula y el promedio se calcula en base a 4 exámenes.\n",
        "\n",
        "Desplegar el promedio final. y cual es la mas baja que se elimino."
      ],
      "metadata": {
        "id": "_W5RBn7Y6iSj"
      }
    },
    {
      "cell_type": "code",
      "source": [
        "try:\n",
        "    examen1 = float(input(\"Ingresa la calificación del primer examen: \"))\n",
        "    examen2 = float(input(\"Ingresa la calificación del segundo examen: \"))\n",
        "    examen3 = float(input(\"Ingresa la calificación del tercer examen: \"))\n",
        "    examen4 = float(input(\"Ingresa la calificación del cuarto examen: \"))\n",
        "    examen5 = float(input(\"Ingresa la calificación del quinto examen: \"))\n",
        "    calificaciones = [examen1, examen2, examen3, examen4, examen5]\n",
        "    calificaciones.sort(reverse=True)\n",
        "    promedio = sum(calificaciones[:4]) / 4\n",
        "    print(\"el promedio de la materia es:\",promedio)\n",
        "\n",
        "except:\n",
        "  print(\"ERROR,no se permiten letras\")"
      ],
      "metadata": {
        "colab": {
          "base_uri": "https://localhost:8080/"
        },
        "id": "Cnqec7TI7dET",
        "outputId": "5e586473-6d5c-4ab9-b4d8-c0e789da8538"
      },
      "execution_count": null,
      "outputs": [
        {
          "output_type": "stream",
          "name": "stdout",
          "text": [
            "Ingresa la calificación del primer examen: 40\n",
            "Ingresa la calificación del segundo examen: 50\n",
            "Ingresa la calificación del tercer examen: 10\n",
            "Ingresa la calificación del cuarto examen: 80\n",
            "Ingresa la calificación del quinto examen: 5\n",
            "el promedio de la materia es: 45.0\n"
          ]
        }
      ]
    },
    {
      "cell_type": "markdown",
      "source": [
        "##5.- Programa en Python que sirva para el juego del CHINCHAMPU (Piedra, Papel, Tijera) para 1 jugador y la computadora"
      ],
      "metadata": {
        "id": "9aZaw3zL80CI"
      }
    },
    {
      "cell_type": "code",
      "source": [
        "try:\n",
        "    import random\n",
        "    opciones = [\"piedra\", \"papel\", \"tijera\"]\n",
        "\n",
        "    jugador = input(\"Elige piedra, papel o tijera: \")\n",
        "\n",
        "    computadora = random.choice(opciones)\n",
        "\n",
        "    if jugador == \"piedra\":\n",
        "        if computadora == \"piedra\":\n",
        "            print(\"Empate\")\n",
        "        elif computadora == \"papel\":\n",
        "            print(\"Gana la computadora\")\n",
        "        else:\n",
        "            print(\"usted es el ganador\")\n",
        "    elif jugador == \"papel\":\n",
        "        if computadora == \"piedra\":\n",
        "          print(\"usted es el ganador\")\n",
        "        elif computadora == \"papel\":\n",
        "            print(\"Empate\")\n",
        "        else:\n",
        "            print(\"Gana la computadora\")\n",
        "    else: \n",
        "        if computadora == \"piedra\":\n",
        "          print(\"Gana la computadora\")\n",
        "        elif computadora == \"papel\":\n",
        "          print(\"usted es el ganador\")\n",
        "        else:\n",
        "          print(\"Empate\")\n",
        "except:\n",
        "  print(\"ERROR,no se permiten numeros\")"
      ],
      "metadata": {
        "id": "gFopsVTj82hs",
        "colab": {
          "base_uri": "https://localhost:8080/"
        },
        "outputId": "47444371-ebda-4daf-f899-e945669e86a4"
      },
      "execution_count": 12,
      "outputs": [
        {
          "output_type": "stream",
          "name": "stdout",
          "text": [
            "Elige piedra, papel o tijera: papel\n",
            "usted es el ganador\n"
          ]
        }
      ]
    },
    {
      "cell_type": "markdown",
      "source": [
        "##6.- Programa en Python que lea 4 números enteros desplegar cuales el menor, cual es mayor"
      ],
      "metadata": {
        "id": "lDIZ0t-pATrz"
      }
    },
    {
      "cell_type": "code",
      "source": [
        "try:\n",
        "    print(\"dime cuatro numeros enteros:\")\n",
        "    num1 = int(input(\"numero 1:\"))\n",
        "    num2 = int(input(\"numero 2:\"))\n",
        "    num3 = int(input(\"numero 3:\"))\n",
        "    num4 = int(input(\"numero 4:\"))\n",
        "\n",
        "    maximo = num1\n",
        "    if num2 > maximo:\n",
        "      maximo = num2\n",
        "    if num3 > maximo:\n",
        "      maximo = num3\n",
        "    if num4 > maximo:\n",
        "      maximo = num4\n",
        "\n",
        "    minimo = num1\n",
        "    if num2 < minimo:\n",
        "      minimo = num2\n",
        "    if num3 < minimo:\n",
        "      minimo = num3\n",
        "    if num4 < minimo:\n",
        "      minimo = num4\n",
        "\n",
        "    print(\"El número mayor es:\", maximo)\n",
        "    print(\"El número menor es:\", minimo)\n",
        "except:\n",
        "  print(\"ERROR,nomas se permiten numeros enteros\")\n",
        "\n"
      ],
      "metadata": {
        "colab": {
          "base_uri": "https://localhost:8080/"
        },
        "id": "p_W7XPtBAXgS",
        "outputId": "6ac5c2cc-b045-426d-84ed-fbb612801238"
      },
      "execution_count": 9,
      "outputs": [
        {
          "output_type": "stream",
          "name": "stdout",
          "text": [
            "dime cuatro numeros enteros:\n",
            "numero 1:10\n",
            "numero 2:5.1\n",
            "ERROR,nomas se permiten numeros enteros\n"
          ]
        }
      ]
    },
    {
      "cell_type": "markdown",
      "source": [
        "##7.- Programa en Python que sirva para calcular el área de un triangulo, los datos de entrada deben ser forzosamente de tipo real\n",
        "\n"
      ],
      "metadata": {
        "id": "A_Q1LHCqDFIV"
      }
    },
    {
      "cell_type": "code",
      "source": [
        "try:\n",
        "    base = int(input(\"dime la base: \"))\n",
        "    altura = int(input(\"dime la area: \"))\n",
        "\n",
        "    area = base*altura/2\n",
        "    print(\"el resulatado es:\",area)\n",
        "except:\n",
        "  print(\"ERROR,los numeros deben ser tipo real\")\n"
      ],
      "metadata": {
        "colab": {
          "base_uri": "https://localhost:8080/"
        },
        "id": "KPr1qrJRDIUK",
        "outputId": "de0431e5-86ef-42aa-95c6-99249d15392e"
      },
      "execution_count": null,
      "outputs": [
        {
          "output_type": "stream",
          "name": "stdout",
          "text": [
            "dime la base: 7\n",
            "dime la area: 10\n",
            "el resulatado es: 35.0\n"
          ]
        }
      ]
    },
    {
      "cell_type": "markdown",
      "source": [
        "##8.Programa en Python que sirva para calcular el área de un circulo\n",
        "\n"
      ],
      "metadata": {
        "id": "AUHo8F5RER2T"
      }
    },
    {
      "cell_type": "code",
      "source": [
        "try:\n",
        "    radio = int(input(\"Introduce el radio del círculo: \"))\n",
        "    area = 3.14159 * radio**2\n",
        "\n",
        "    print(\"El área del círculo es:\", area)\n",
        "except:\n",
        "  print(\"ERROR,los numeros deben ser tipo real\")"
      ],
      "metadata": {
        "colab": {
          "base_uri": "https://localhost:8080/"
        },
        "id": "QFZ9sPDeEWUr",
        "outputId": "7b20fac9-2cba-459e-d7fa-19d568035687"
      },
      "execution_count": null,
      "outputs": [
        {
          "output_type": "stream",
          "name": "stdout",
          "text": [
            "Introduce el radio del círculo: 4\n",
            "El área del círculo es: 50.26544\n"
          ]
        }
      ]
    }
  ]
}