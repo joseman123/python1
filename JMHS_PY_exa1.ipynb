{
  "nbformat": 4,
  "nbformat_minor": 0,
  "metadata": {
    "colab": {
      "provenance": [],
      "authorship_tag": "ABX9TyOabc7cnDDav4Y3bwxCJDm0",
      "include_colab_link": true
    },
    "kernelspec": {
      "name": "python3",
      "display_name": "Python 3"
    },
    "language_info": {
      "name": "python"
    }
  },
  "cells": [
    {
      "cell_type": "markdown",
      "metadata": {
        "id": "view-in-github",
        "colab_type": "text"
      },
      "source": [
        "<a href=\"https://colab.research.google.com/github/joseman123/python1/blob/main/JMHS_PY_exa1.ipynb\" target=\"_parent\"><img src=\"https://colab.research.google.com/assets/colab-badge.svg\" alt=\"Open In Colab\"/></a>"
      ]
    },
    {
      "cell_type": "markdown",
      "source": [
        "#pregunta 1"
      ],
      "metadata": {
        "id": "aX6FSpGEqqg4"
      }
    },
    {
      "cell_type": "markdown",
      "source": [
        "Escribir codigo que mande llamar la funcion y desplegar el resultado,\n",
        "\n",
        "Escribir enlace a GITHUB a un dcto que se llame INICIALES_PY_exa1"
      ],
      "metadata": {
        "id": "225Ge5MlqJjR"
      }
    },
    {
      "cell_type": "code",
      "execution_count": 4,
      "metadata": {
        "colab": {
          "base_uri": "https://localhost:8080/"
        },
        "id": "xaMaX4gEpPok",
        "outputId": "70f540b9-f609-4953-d594-ef30f8055664"
      },
      "outputs": [
        {
          "output_type": "stream",
          "name": "stdout",
          "text": [
            "el resultado es : 22\n"
          ]
        }
      ],
      "source": [
        "num1 = 12\n",
        "num2 = 10\n",
        "suma = num1+num2\n",
        "print(\"el resultado es :\",suma)"
      ]
    },
    {
      "cell_type": "markdown",
      "source": [
        "#pregunta 2"
      ],
      "metadata": {
        "id": "4IVdANAprtNg"
      }
    },
    {
      "cell_type": "markdown",
      "source": [
        "Escribe una funcion de Python en collaboratory que realice lo siguiente:\n",
        "\n",
        "funcion que retorne el resultado del area de un triangulo\n",
        "\n",
        "Escribir codigo que mande llamar la funcion y desplegar el resultado,\n",
        "\n",
        "VALIDAR da tos entrada\n",
        "\n",
        "Escribir enlace a GITHUB a un dcto que se llame INICIALES_PY_exa1"
      ],
      "metadata": {
        "id": "q7uS5Lvoryy-"
      }
    },
    {
      "cell_type": "code",
      "source": [
        "altura = 2\n",
        "base =3\n",
        "area = altura*base\n",
        "print(\"el resultado es\",area)"
      ],
      "metadata": {
        "colab": {
          "base_uri": "https://localhost:8080/"
        },
        "id": "r7EL61zFrx7_",
        "outputId": "286528c4-6348-46c6-b229-3486241ddca7"
      },
      "execution_count": 5,
      "outputs": [
        {
          "output_type": "stream",
          "name": "stdout",
          "text": [
            "el resultado es 6\n"
          ]
        }
      ]
    }
  ]
}