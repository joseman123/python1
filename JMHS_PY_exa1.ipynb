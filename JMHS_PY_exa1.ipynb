{
  "nbformat": 4,
  "nbformat_minor": 0,
  "metadata": {
    "colab": {
      "provenance": [],
      "authorship_tag": "ABX9TyN1xt3BcWQLEeiqnaKOsEYQ",
      "include_colab_link": true
    },
    "kernelspec": {
      "name": "python3",
      "display_name": "Python 3"
    },
    "language_info": {
      "name": "python"
    }
  },
  "cells": [
    {
      "cell_type": "markdown",
      "metadata": {
        "id": "view-in-github",
        "colab_type": "text"
      },
      "source": [
        "<a href=\"https://colab.research.google.com/github/joseman123/python1/blob/main/JMHS_PY_exa1.ipynb\" target=\"_parent\"><img src=\"https://colab.research.google.com/assets/colab-badge.svg\" alt=\"Open In Colab\"/></a>"
      ]
    },
    {
      "cell_type": "markdown",
      "source": [
        "#pregunta 1"
      ],
      "metadata": {
        "id": "aX6FSpGEqqg4"
      }
    },
    {
      "cell_type": "markdown",
      "source": [
        "Escribir codigo que mande llamar la funcion y desplegar el resultado,\n",
        "\n",
        "Escribir enlace a GITHUB a un dcto que se llame INICIALES_PY_exa1"
      ],
      "metadata": {
        "id": "225Ge5MlqJjR"
      }
    },
    {
      "cell_type": "code",
      "execution_count": 4,
      "metadata": {
        "colab": {
          "base_uri": "https://localhost:8080/"
        },
        "id": "xaMaX4gEpPok",
        "outputId": "70f540b9-f609-4953-d594-ef30f8055664"
      },
      "outputs": [
        {
          "output_type": "stream",
          "name": "stdout",
          "text": [
            "el resultado es : 22\n"
          ]
        }
      ],
      "source": [
        "num1 = 12\n",
        "num2 = 10\n",
        "suma = num1+num2\n",
        "print(\"el resultado es :\",suma)"
      ]
    },
    {
      "cell_type": "markdown",
      "source": [
        "#pregunta 2"
      ],
      "metadata": {
        "id": "4IVdANAprtNg"
      }
    },
    {
      "cell_type": "markdown",
      "source": [
        "Escribe una funcion de Python en collaboratory que realice lo siguiente:\n",
        "\n",
        "funcion que retorne el resultado del area de un triangulo\n",
        "\n",
        "Escribir codigo que mande llamar la funcion y desplegar el resultado,\n",
        "\n",
        "VALIDAR da tos entrada\n",
        "\n",
        "Escribir enlace a GITHUB a un dcto que se llame INICIALES_PY_exa1"
      ],
      "metadata": {
        "id": "q7uS5Lvoryy-"
      }
    },
    {
      "cell_type": "code",
      "source": [
        "import random\n",
        "\n",
        "def calcular_base_altura(area):\n",
        "    \n",
        "    base = random.randint(1, 10)\n",
        "    altura = area / base\n",
        "    return (base, altura)\n",
        "\n",
        "def calcular_area_triangulo(area):\n",
        "    \n",
        "    try:\n",
        "        base, altura = calcular_base_altura(area)\n",
        "        resultado = (base * altura) / 2\n",
        "        return resultado\n",
        "    except ZeroDivisionError:\n",
        "        print(\"La base del triángulo no puede ser cero.\")\n",
        "\n",
        "area = float(input(\"Ingrese el área del triángulo: \"))\n",
        "\n",
        "resultado = calcular_area_triangulo(area)\n",
        "\n",
        "print(\"El área del triángulo es:\", resultado)"
      ],
      "metadata": {
        "colab": {
          "base_uri": "https://localhost:8080/"
        },
        "id": "r7EL61zFrx7_",
        "outputId": "9bdb6064-eb20-415a-dc49-ece092cfd3e6"
      },
      "execution_count": 11,
      "outputs": [
        {
          "output_type": "stream",
          "name": "stdout",
          "text": [
            "Ingrese el área del triángulo: 5\n",
            "El área del triángulo es: 2.5\n"
          ]
        }
      ]
    },
    {
      "cell_type": "markdown",
      "source": [
        "#Pregunta 3\n",
        "8\n",
        " puntos\n",
        "Escribe una funcion de Python en collaboratory que realice lo siguiente:\n",
        "\n",
        "funcion que retorne un diccionario con los datos basicos de un alumno (pedir al usuario y validar)\n",
        "\n",
        "Escribir codigo que mande llamar la funcion y desplegar el resultado,\n",
        "\n",
        "Escribir enlace a GITHUB a un dcto que se llame INICIALES_PY_exa1"
      ],
      "metadata": {
        "id": "spu818pUsQ__"
      }
    },
    {
      "cell_type": "code",
      "source": [
        "import random\n",
        "\n",
        "nombres = [\"Juan\", \"Ana\", \"Carlos\", \"Maria\", \"Pedro\"]\n",
        "apellidos_paterno = [\"Garcia\", \"Lopez\", \"Rodriguez\", \"Martinez\", \"Hernandez\"]\n",
        "apellidos_materno = [\"Perez\", \"Gonzalez\", \"Sanchez\", \"Ramirez\", \"Diaz\"]\n",
        "\n",
        "def crear_diccionario():\n",
        "    id = random.randint(300000, 399999)\n",
        "    nombre = random.choice(nombres)\n",
        "    appaterno = random.choice(apellidos_paterno)\n",
        "    apmaterno = random.choice(apellidos_materno)\n",
        "    edad = random.randint(18, 50)\n",
        "    genero = random.choice(['Masculino', 'Femenino'])\n",
        "    return {'ID': id, 'Nombre': nombre, 'Apellido Paterno': appaterno, 'Apellido Materno': apmaterno, 'Edad': edad, 'Sexo': genero}\n",
        "\n",
        "\n",
        "def imprimir_diccionario(diccionario):\n",
        "    print(\"ID: \", diccionario['ID'])\n",
        "    print(\"Nombre completo: \", diccionario['Nombre'], diccionario['Apellido Paterno'], diccionario['Apellido Materno'])\n",
        "    print(\"Edad: \", diccionario['Edad'])\n",
        "    print(\"Sexo: \", diccionario['Sexo'])\n",
        "    print(\"\")\n",
        "\n",
        "\n",
        "while True:\n",
        "    print(\"\\nMENU\\n\")\n",
        "    print(\"1.- Crear Diccionario\")\n",
        "    print(\"2.- Imprimir Diccionario\")\n",
        "    print(\"0.- Salir\")\n",
        "    opcion = input(\"Ingrese una opcion: \")\n",
        "\n",
        "    if opcion == '1':\n",
        "        alumno = crear_diccionario()\n",
        "    elif opcion == '2':\n",
        "        imprimir_diccionario(alumno)\n",
        "    elif opcion == '0':\n",
        "        break\n",
        "    else:\n",
        "        print(\"Opcion no valida, intente de nuevo\")"
      ],
      "metadata": {
        "colab": {
          "base_uri": "https://localhost:8080/"
        },
        "id": "FBqXvPVRsUCX",
        "outputId": "5f977219-4348-44b2-d0c6-cc41aed5600f"
      },
      "execution_count": null,
      "outputs": [
        {
          "output_type": "stream",
          "name": "stdout",
          "text": [
            "\n",
            "MENU\n",
            "\n",
            "1.- Crear Diccionario\n",
            "2.- Imprimir Diccionario\n",
            "0.- Salir\n",
            "Ingrese una opcion: 1\n",
            "\n",
            "MENU\n",
            "\n",
            "1.- Crear Diccionario\n",
            "2.- Imprimir Diccionario\n",
            "0.- Salir\n",
            "Ingrese una opcion: 2\n",
            "ID:  306555\n",
            "Nombre completo:  Carlos Hernandez Ramirez\n",
            "Edad:  21\n",
            "Sexo:  Masculino\n",
            "\n",
            "\n",
            "MENU\n",
            "\n",
            "1.- Crear Diccionario\n",
            "2.- Imprimir Diccionario\n",
            "0.- Salir\n"
          ]
        }
      ]
    }
  ]
}