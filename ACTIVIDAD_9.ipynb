{
  "nbformat": 4,
  "nbformat_minor": 0,
  "metadata": {
    "colab": {
      "provenance": [],
      "authorship_tag": "ABX9TyMDG0zqvJBjBSn2lfljsQfs",
      "include_colab_link": true
    },
    "kernelspec": {
      "name": "python3",
      "display_name": "Python 3"
    },
    "language_info": {
      "name": "python"
    }
  },
  "cells": [
    {
      "cell_type": "markdown",
      "metadata": {
        "id": "view-in-github",
        "colab_type": "text"
      },
      "source": [
        "<a href=\"https://colab.research.google.com/github/joseman123/python1/blob/main/ACTIVIDAD_9.ipynb\" target=\"_parent\"><img src=\"https://colab.research.google.com/assets/colab-badge.svg\" alt=\"Open In Colab\"/></a>"
      ]
    },
    {
      "cell_type": "markdown",
      "source": [
        "#ACTIVIDAD 9\n",
        "#PROGRAMACION PYTHON\n",
        "#JOSE MANUEL HERNANDEZ SANTIAGO\n",
        "#GRUPO 432"
      ],
      "metadata": {
        "id": "BslQzKYi7WYe"
      }
    },
    {
      "cell_type": "markdown",
      "source": [
        "#Realiza un programa en python que utilice el siguiente menu: \n",
        "\n",
        " #MENU\n",
        "\n",
        " #1.- Crear Diccionario\n",
        "\n",
        " #2.- Imprimir Diccionario \n",
        "\n",
        " #0.- Salir\n",
        "\n",
        "\n",
        "\n",
        "CREAR DICCIIONARIO: funcion que retorne un diccionario con los datos de basicos de un alumno, donde se pide {id,nombre (1 O 2) , appaterno,apmaterno, edad,sexo}, El diccionario se debe generar automaticmanete a partir de listas.\n",
        "\n",
        "\n",
        "\n",
        "IMPRIMIR DICCIONARIO:  Funcion que reciba como parametro el diccionario, y le de una salida mostrando la informacion en forma de registro que se genero con el diccionario "
      ],
      "metadata": {
        "id": "QW2MSEns3S6s"
      }
    },
    {
      "cell_type": "code",
      "source": [
        "import random\n",
        "\n",
        "nombres = [\"Juan\", \"Ana\", \"Carlos\", \"Maria\", \"Pedro\"]\n",
        "apellidos_paterno = [\"Garcia\", \"Lopez\", \"Rodriguez\", \"Martinez\", \"Hernandez\"]\n",
        "apellidos_materno = [\"Perez\", \"Gonzalez\", \"Sanchez\", \"Ramirez\", \"Diaz\"]\n",
        "\n",
        "def crear_diccionario():\n",
        "    id = random.randint(1, 100)\n",
        "    nombre = random.choice(nombres)\n",
        "    appaterno = random.choice(apellidos_paterno)\n",
        "    apmaterno = random.choice(apellidos_materno)\n",
        "    edad = random.randint(18, 25)\n",
        "    genero = random.choice(['Masculino', 'Femenino'])\n",
        "    return {'ID': id, 'Nombre': nombre, 'Apellido Paterno': appaterno, 'Apellido Materno': apmaterno, 'Edad': edad, 'Sexo': genero}\n",
        "\n",
        "\n",
        "def imprimir_diccionario(diccionario):\n",
        "    print(\"ID: \", diccionario['ID'])\n",
        "    print(\"Nombre completo: \", diccionario['Nombre'], diccionario['Apellido Paterno'], diccionario['Apellido Materno'])\n",
        "    print(\"Edad: \", diccionario['Edad'])\n",
        "    print(\"Sexo: \", diccionario['Sexo'])\n",
        "    print(\"\")\n",
        "\n",
        "\n",
        "while True:\n",
        "    print(\"\\nMENU\\n\")\n",
        "    print(\"1.- Crear Diccionario\")\n",
        "    print(\"2.- Imprimir Diccionario\")\n",
        "    print(\"0.- Salir\")\n",
        "    opcion = input(\"Ingrese una opcion: \")\n",
        "\n",
        "    if opcion == '1':\n",
        "        alumno = crear_diccionario()\n",
        "    elif opcion == '2':\n",
        "        imprimir_diccionario(alumno)\n",
        "    elif opcion == '0':\n",
        "        break\n",
        "    else:\n",
        "        print(\"Opcion no valida, intente de nuevo\")\n"
      ],
      "metadata": {
        "colab": {
          "base_uri": "https://localhost:8080/"
        },
        "id": "loBd0x067HaX",
        "outputId": "7678ee59-dc33-43de-e00c-407d027cc5fd"
      },
      "execution_count": 3,
      "outputs": [
        {
          "name": "stdout",
          "output_type": "stream",
          "text": [
            "\n",
            "MENU\n",
            "\n",
            "1.- Crear Diccionario\n",
            "2.- Imprimir Diccionario\n",
            "0.- Salir\n",
            "Ingrese una opcion: 1\n",
            "\n",
            "MENU\n",
            "\n",
            "1.- Crear Diccionario\n",
            "2.- Imprimir Diccionario\n",
            "0.- Salir\n",
            "Ingrese una opcion: 2\n",
            "ID:  89\n",
            "Nombre completo:  Carlos Garcia Gonzalez\n",
            "Edad:  18\n",
            "Sexo:  Masculino\n",
            "\n",
            "\n",
            "MENU\n",
            "\n",
            "1.- Crear Diccionario\n",
            "2.- Imprimir Diccionario\n",
            "0.- Salir\n",
            "Ingrese una opcion: 1\n",
            "\n",
            "MENU\n",
            "\n",
            "1.- Crear Diccionario\n",
            "2.- Imprimir Diccionario\n",
            "0.- Salir\n",
            "Ingrese una opcion: 2\n",
            "ID:  65\n",
            "Nombre completo:  Pedro Garcia Sanchez\n",
            "Edad:  22\n",
            "Sexo:  Masculino\n",
            "\n",
            "\n",
            "MENU\n",
            "\n",
            "1.- Crear Diccionario\n",
            "2.- Imprimir Diccionario\n",
            "0.- Salir\n",
            "Ingrese una opcion: 0\n"
          ]
        }
      ]
    }
  ]
}