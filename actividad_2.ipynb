{
  "nbformat": 4,
  "nbformat_minor": 0,
  "metadata": {
    "colab": {
      "provenance": [],
      "authorship_tag": "ABX9TyPHqmP4+OtxBc5xo0iU+GPk",
      "include_colab_link": true
    },
    "kernelspec": {
      "name": "python3",
      "display_name": "Python 3"
    },
    "language_info": {
      "name": "python"
    }
  },
  "cells": [
    {
      "cell_type": "markdown",
      "metadata": {
        "id": "view-in-github",
        "colab_type": "text"
      },
      "source": [
        "<a href=\"https://colab.research.google.com/github/joseman123/python1/blob/main/actividad_2.ipynb\" target=\"_parent\"><img src=\"https://colab.research.google.com/assets/colab-badge.svg\" alt=\"Open In Colab\"/></a>"
      ]
    },
    {
      "cell_type": "markdown",
      "source": [
        "# JOSE MANUEL HERNANDEZ SANTIAGO\n",
        "# MATRICULA:370711\n",
        "# GRUPO:432 \n",
        "# ACTIVDAD 2"
      ],
      "metadata": {
        "id": "8p1c2_9NFMnt"
      }
    },
    {
      "cell_type": "markdown",
      "source": [
        "# **EJERCICIOS ( 1,2,3 y 4 ) PARA SER RESUELTOS USANDO EXCLUSIVAMENTE CONDICIONES SIMPLES**\n"
      ],
      "metadata": {
        "id": "my4jRpru8HXZ"
      }
    },
    {
      "cell_type": "markdown",
      "source": [
        "## 1.- Programa en Python que lea 2 números enteros, usar una condición y analizar los dos números y desplegar cual de los números es el mayor. 1\n",
        "\n"
      ],
      "metadata": {
        "id": "EO740j3Q8NDY"
      }
    },
    {
      "cell_type": "code",
      "execution_count": null,
      "metadata": {
        "colab": {
          "base_uri": "https://localhost:8080/"
        },
        "id": "UzE-kT6M8GSq",
        "outputId": "f6f7e11d-adc4-4ff6-aebe-8f03159aba77"
      },
      "outputs": [
        {
          "output_type": "stream",
          "name": "stdout",
          "text": [
            "dime dos numeros enteros:\n",
            "numero 1:2\n",
            "numero 2:4\n",
            "el numero es mayor 4\n"
          ]
        }
      ],
      "source": [
        "print(\"dime dos numeros enteros:\")\n",
        "num1 = int(input(\"numero 1:\"))\n",
        "num2 = int(input(\"numero 2:\"))\n",
        "if num1 > num2:\n",
        "  print(f\"el numero mayor es {num1}\")\n",
        "if num2 > num1:\n",
        "  print(f\"el numero es mayor {num2}\")\n",
        "\n"
      ]
    },
    {
      "cell_type": "markdown",
      "source": [
        "## 2.Programa en PythonAlgoritmo que lea 4 calificaciones de un alumno, calcular y desplegar el promedio acompañado de la leyenda \"APROBADO\" o \"REPROBADO\""
      ],
      "metadata": {
        "id": "HJMZ6MOVEpak"
      }
    },
    {
      "cell_type": "code",
      "source": [
        "cal1 = int(input(\"ingrese un numero:\"))\n",
        "cal2 = int(input(\"ingrese un numero:\"))\n",
        "cal3 = int(input(\"ingrese un numero:\"))\n",
        "cal4 = int(input(\"ingrese un numero:\"))\n",
        "promedio = (cal1+cal2+cal3+cal4)/4\n",
        "print(cal1,\" + \",cal2,\" + \",cal3,\" + \",cal4,\"/4 \",\" = \",promedio)\n",
        "if promedio>6:\n",
        "   print(\"el alumno esta aprobado\")\n",
        "if promedio<6:\n",
        "   print(\"el alumno esta reprobado\")\n",
        "   \n",
        "\n"
      ],
      "metadata": {
        "colab": {
          "base_uri": "https://localhost:8080/"
        },
        "id": "KNXa0vspEpFO",
        "outputId": "723aab29-9626-41bd-a9aa-70ec20394c24"
      },
      "execution_count": null,
      "outputs": [
        {
          "output_type": "stream",
          "name": "stdout",
          "text": [
            "ingrese un numero:5\n",
            "ingrese un numero:5\n",
            "ingrese un numero:5\n",
            "ingrese un numero:5\n",
            "5  +  5  +  5  +  5 /4   =  5.0\n",
            "el alumno esta reprobado\n"
          ]
        }
      ]
    },
    {
      "cell_type": "markdown",
      "source": [
        "## 3.- Programa en PythonAlgoritmo que a través de opciones (1.- HOMBRE 2.- MUJER ) preguntar al usuario cual es su sexo y desplegar la leyenda “HOMBRE ”, “MUJER”\n",
        "\n"
      ],
      "metadata": {
        "id": "WfzKcrh2PJwO"
      }
    },
    {
      "cell_type": "code",
      "source": [
        "print(\"¿cual es tu sexo?\")\n",
        "print(\"1.HOMBRE\")\n",
        "print(\"2.MUJER\")\n",
        "opcion1 = input(\"eliga la opcion que corresponde a su sexo 1 o 2:\")\n",
        "if opcion1 == \"1\":\n",
        "    print(\"usted es HOMBRE\")\n",
        "if opcion1 == \"2\":\n",
        "    print(\"usted es MUJER\")"
      ],
      "metadata": {
        "colab": {
          "base_uri": "https://localhost:8080/",
          "height": 0
        },
        "id": "UlAX-xVVPSto",
        "outputId": "8290b9d7-4f22-48eb-b64b-e437e9a94ca4"
      },
      "execution_count": 5,
      "outputs": [
        {
          "output_type": "stream",
          "name": "stdout",
          "text": [
            "¿cual es tu sexo?\n",
            "1.HOMBRE\n",
            "2.MUJER\n",
            "eliga la opcion que corresponde a su sexo 1 o 2:1\n",
            "usted es HOMBRE\n"
          ]
        }
      ]
    },
    {
      "cell_type": "markdown",
      "source": [
        "## 4.- Programa en Python que lea un número entero, y desplegar si el número es “PAR” o “IMPAR”"
      ],
      "metadata": {
        "id": "R8Rr0hwa9F6D"
      }
    },
    {
      "cell_type": "code",
      "source": [
        "print(\"dame un numero entero:\")\n",
        "num = int(input(\"\"))\n",
        "entero = num % 2\n",
        "if entero == 0:\n",
        "    print(\"este numero es par\")\n",
        "if entero > 0:\n",
        "    print(\"este numero es impar\")"
      ],
      "metadata": {
        "colab": {
          "base_uri": "https://localhost:8080/"
        },
        "id": "pvPkbYuD9cjL",
        "outputId": "79842475-c550-4d7b-b946-6f69f611b193"
      },
      "execution_count": null,
      "outputs": [
        {
          "output_type": "stream",
          "name": "stdout",
          "text": [
            "dame un numero entero:\n",
            "11\n",
            "este numero es impar\n"
          ]
        }
      ]
    },
    {
      "cell_type": "markdown",
      "source": [
        "#**EJERCICIOS (5,6,7 y 8) PARA SER RESUELTOS USANDO CONDICIÓN COMPUESTA**"
      ],
      "metadata": {
        "id": "gqNBjX-1AThs"
      }
    },
    {
      "cell_type": "markdown",
      "source": [
        "## 5.- Programa en Python que lea 2 números enteros, usar una condición y analizar los dos números y desplegar cual de los números es el mayor.\n",
        "**bold text**"
      ],
      "metadata": {
        "id": "zOqXLRFIAa10"
      }
    },
    {
      "cell_type": "code",
      "source": [
        "print(\"dime dos numeros enteros:\")\n",
        "num1 = int(input(\"numero 1:\"))\n",
        "num2 = int(input(\"numero 2:\"))\n",
        "if num1 > num2:\n",
        "  print(f\"el numero mayor es {num1}\")\n",
        "else:\n",
        "  print(f\"el numero es mayor {num2}\")\n",
        "\n"
      ],
      "metadata": {
        "colab": {
          "base_uri": "https://localhost:8080/",
          "height": 0
        },
        "id": "Qi-gcTWwAdCc",
        "outputId": "1351d92f-d47b-4dca-e619-4c73214eba2f"
      },
      "execution_count": 4,
      "outputs": [
        {
          "output_type": "stream",
          "name": "stdout",
          "text": [
            "dime dos numeros enteros:\n",
            "numero 1:7\n",
            "numero 2:5\n",
            "el numero mayor es 7\n"
          ]
        }
      ]
    },
    {
      "cell_type": "markdown",
      "source": [
        "## 6.- Programa en Python que lea 4 calificaciones de un alumno, calcular y desplegar el promedio acompañado de la leyenda APROBADO o REPROBADO"
      ],
      "metadata": {
        "id": "qs4XE_UlDhqL"
      }
    },
    {
      "cell_type": "code",
      "source": [
        "cal1 = int(input(\"ingrese un numero:\"))\n",
        "cal2 = int(input(\"ingrese un numero:\"))\n",
        "cal3 = int(input(\"ingrese un numero:\"))\n",
        "cal4 = int(input(\"ingrese un numero:\"))\n",
        "promedio = (cal1+cal2+cal3+cal4)/4\n",
        "print(cal1,\" + \",cal2,\" + \",cal3,\" + \",cal4,\"/4 \",\" = \",promedio)\n",
        "if promedio>6:\n",
        "   print(\"el alumno esta aprobado\")\n",
        "else: \n",
        "   print(\"el alumno esta reprobado\")\n",
        "   \n",
        "\n"
      ],
      "metadata": {
        "colab": {
          "base_uri": "https://localhost:8080/",
          "height": 0
        },
        "id": "pozLtAtpDlCD",
        "outputId": "e65c649d-b78e-41bd-bb59-a63801d8de08"
      },
      "execution_count": 3,
      "outputs": [
        {
          "output_type": "stream",
          "name": "stdout",
          "text": [
            "ingrese un numero:10\n",
            "ingrese un numero:7\n",
            "ingrese un numero:5\n",
            "ingrese un numero:9\n",
            "10  +  7  +  5  +  9 /4   =  7.75\n",
            "el alumno esta aprobado\n"
          ]
        }
      ]
    },
    {
      "cell_type": "markdown",
      "source": [
        "## 7.- Programa en Python que a través de opciones (1.- HOMBRE 2.- MUJER ) preguntar al usuario cual es su sexo y desplegar la leyenda “HOMBRE ”, “MUJER”"
      ],
      "metadata": {
        "id": "tnH9Bur4D6CT"
      }
    },
    {
      "cell_type": "code",
      "source": [
        "print(\"¿cual es tu sexo?\")\n",
        "print(\"1.HOMBRE\")\n",
        "print(\"2.MUJER\")\n",
        "opcion1 = input(\"eliga la opcion que corresponde a su sexo 1 o 2:\")\n",
        "if opcion1 == \"1\":\n",
        "    print(\"usted es HOMBRE\")\n",
        "else:\n",
        "    print(\"usted es MUJER\")"
      ],
      "metadata": {
        "colab": {
          "base_uri": "https://localhost:8080/",
          "height": 0
        },
        "id": "WdxZEp10D9Gr",
        "outputId": "b55a78bd-39bc-4f9b-9d3f-4a3d6af7e1da"
      },
      "execution_count": 2,
      "outputs": [
        {
          "output_type": "stream",
          "name": "stdout",
          "text": [
            "¿cual es tu sexo?\n",
            "1.HOMBRE\n",
            "2.MUJER\n",
            "eliga la opcion que corresponde a su sexo 1 o 2:1\n",
            "usted es HOMBRE\n"
          ]
        }
      ]
    },
    {
      "cell_type": "markdown",
      "source": [
        "## 8.- Programa en Python que lea un número entero, y desplegar si el número es “PAR” o “IMPAR” NOTA: EJERCICIOS PARA SER RESUELTOS USANDO EXCLUSIVAMENTE CONDICIONES COMPUESTO\n",
        "\n"
      ],
      "metadata": {
        "id": "gNfYZVm8EIhT"
      }
    },
    {
      "cell_type": "code",
      "source": [
        "print(\"dame un numero entero:\")\n",
        "num = int(input(\"\"))\n",
        "entero = num % 2\n",
        "if entero == 0:\n",
        "    print(\"este numero es par\")\n",
        "else:\n",
        "    print(\"este numero es impar\")"
      ],
      "metadata": {
        "colab": {
          "base_uri": "https://localhost:8080/",
          "height": 0
        },
        "id": "ELrj8M-LEPUS",
        "outputId": "0a01ba08-8281-4ebf-edfd-70065996e7c9"
      },
      "execution_count": 1,
      "outputs": [
        {
          "output_type": "stream",
          "name": "stdout",
          "text": [
            "dame un numero entero:\n",
            "2\n",
            "este numero es par\n"
          ]
        }
      ]
    }
  ]
}