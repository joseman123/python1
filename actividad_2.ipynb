{
  "nbformat": 4,
  "nbformat_minor": 0,
  "metadata": {
    "colab": {
      "provenance": [],
      "authorship_tag": "ABX9TyPq0Utf8UvLn3nYNfT3i/xU",
      "include_colab_link": true
    },
    "kernelspec": {
      "name": "python3",
      "display_name": "Python 3"
    },
    "language_info": {
      "name": "python"
    }
  },
  "cells": [
    {
      "cell_type": "markdown",
      "metadata": {
        "id": "view-in-github",
        "colab_type": "text"
      },
      "source": [
        "<a href=\"https://colab.research.google.com/github/joseman123/python1/blob/main/actividad_2.ipynb\" target=\"_parent\"><img src=\"https://colab.research.google.com/assets/colab-badge.svg\" alt=\"Open In Colab\"/></a>"
      ]
    },
    {
      "cell_type": "markdown",
      "source": [
        "EJERCICIOS ( 1,2,3 y 4 ) PARA SER RESUELTOS USANDO EXCLUSIVAMENTE CONDICIONES SIMPLES \n"
      ],
      "metadata": {
        "id": "my4jRpru8HXZ"
      }
    },
    {
      "cell_type": "markdown",
      "source": [
        "1.- Programa en Python que lea 2 números enteros, usar una condición y analizar los dos números y desplegar cual de los números es el mayor. 1\n",
        "\n"
      ],
      "metadata": {
        "id": "EO740j3Q8NDY"
      }
    },
    {
      "cell_type": "code",
      "execution_count": 66,
      "metadata": {
        "colab": {
          "base_uri": "https://localhost:8080/"
        },
        "id": "UzE-kT6M8GSq",
        "outputId": "f6f7e11d-adc4-4ff6-aebe-8f03159aba77"
      },
      "outputs": [
        {
          "output_type": "stream",
          "name": "stdout",
          "text": [
            "dime dos numeros enteros:\n",
            "numero 1:2\n",
            "numero 2:4\n",
            "el numero es mayor 4\n"
          ]
        }
      ],
      "source": [
        "print(\"dime dos numeros enteros:\")\n",
        "num1 = int(input(\"numero 1:\"))\n",
        "num2 = int(input(\"numero 2:\"))\n",
        "if num1 > num2:\n",
        "  print(f\"el numero mayor es {num1}\")\n",
        "if num2 > num1:\n",
        "  print(f\"el numero es mayor {num2}\")\n",
        "\n"
      ]
    },
    {
      "cell_type": "markdown",
      "source": [
        "2.Programa en PythonAlgoritmo que lea 4 calificaciones de un alumno, calcular y desplegar el promedio acompañado de la leyenda \"APROBADO\" o \"REPROBADO\""
      ],
      "metadata": {
        "id": "HJMZ6MOVEpak"
      }
    },
    {
      "cell_type": "code",
      "source": [
        "cal1 = int(input(\"ingrese un numero:\"))\n",
        "cal2 = int(input(\"ingrese un numero:\"))\n",
        "cal3 = int(input(\"ingrese un numero:\"))\n",
        "cal4 = int(input(\"ingrese un numero:\"))\n",
        "promedio = (cal1+cal2+cal3+cal4)/4\n",
        "print(cal1,\" + \",cal2,\" + \",cal3,\" + \",cal4,\"/4 \",\" = \",promedio)\n",
        "if promedio>6:\n",
        "   print(\"el alumno esta aprobado\")\n",
        "if promedio<6:\n",
        "   print(\"el alumno esta reprobado\")\n",
        "   \n",
        "\n"
      ],
      "metadata": {
        "colab": {
          "base_uri": "https://localhost:8080/"
        },
        "id": "KNXa0vspEpFO",
        "outputId": "723aab29-9626-41bd-a9aa-70ec20394c24"
      },
      "execution_count": null,
      "outputs": [
        {
          "output_type": "stream",
          "name": "stdout",
          "text": [
            "ingrese un numero:5\n",
            "ingrese un numero:5\n",
            "ingrese un numero:5\n",
            "ingrese un numero:5\n",
            "5  +  5  +  5  +  5 /4   =  5.0\n",
            "el alumno esta reprobado\n"
          ]
        }
      ]
    },
    {
      "cell_type": "markdown",
      "source": [
        "3.- Programa en PythonAlgoritmo que a través de opciones (1.- HOMBRE 2.- MUJER ) preguntar al usuario cual es su sexo y desplegar la leyenda “HOMBRE ”, “MUJER”\n",
        "\n"
      ],
      "metadata": {
        "id": "WfzKcrh2PJwO"
      }
    },
    {
      "cell_type": "code",
      "source": [
        "print(\"¿cual es tu sexo?\")\n",
        "print(\"1.HOMBRE\")\n",
        "print(\"2.MUJER\")\n",
        "opcion1 = input(\"eliga la opcion que corresponde a su sexo 1 o 2:\")\n",
        "if opcion1 == \"1\":\n",
        "    print(\"usted es HOMBRE\")\n",
        "if opcion1 == \"2\":\n",
        "    print(\"usted es MUJER\")"
      ],
      "metadata": {
        "colab": {
          "base_uri": "https://localhost:8080/"
        },
        "id": "UlAX-xVVPSto",
        "outputId": "dfbe05a9-3b99-49e4-9d3c-90f13efbdcfd"
      },
      "execution_count": 47,
      "outputs": [
        {
          "output_type": "stream",
          "name": "stdout",
          "text": [
            "¿cual es tu sexo?\n",
            "1.HOMBRE\n",
            "2.MUJER\n",
            "eliga la opcion que corresponde a su sexo 1 o 2:2\n",
            "usted es MUJER\n"
          ]
        }
      ]
    },
    {
      "cell_type": "markdown",
      "source": [
        "4.- Programa en Python que lea un número entero, y desplegar si el número es “PAR” o “IMPAR”"
      ],
      "metadata": {
        "id": "R8Rr0hwa9F6D"
      }
    },
    {
      "cell_type": "code",
      "source": [
        "print(\"dame un numero entero:\")\n",
        "num = int(input(\"\"))\n",
        "entero = num % 2\n",
        "if entero == 0:\n",
        "    print(\"este numero es par\")\n",
        "if entero > 0:\n",
        "    print(\"este numero es impar\")"
      ],
      "metadata": {
        "colab": {
          "base_uri": "https://localhost:8080/"
        },
        "id": "pvPkbYuD9cjL",
        "outputId": "79842475-c550-4d7b-b946-6f69f611b193"
      },
      "execution_count": 58,
      "outputs": [
        {
          "output_type": "stream",
          "name": "stdout",
          "text": [
            "dame un numero entero:\n",
            "11\n",
            "este numero es impar\n"
          ]
        }
      ]
    },
    {
      "cell_type": "markdown",
      "source": [
        "EJERCICIOS (5,6,7 y 8) PARA SER RESUELTOS USANDO CONDICIÓN COMPUESTA"
      ],
      "metadata": {
        "id": "gqNBjX-1AThs"
      }
    },
    {
      "cell_type": "markdown",
      "source": [
        "5.- Programa en Python que lea 2 números enteros, usar una condición y analizar los dos números y desplegar cual de los números es el mayor.\n",
        "\n"
      ],
      "metadata": {
        "id": "zOqXLRFIAa10"
      }
    },
    {
      "cell_type": "code",
      "source": [
        "print(\"dime dos numeros enteros:\")\n",
        "num1 = int(input(\"numero 1:\"))\n",
        "num2 = int(input(\"numero 2:\"))\n",
        "if num1 > num2:\n",
        "  print(f\"el numero mayor es {num1}\")\n",
        "else:\n",
        "  print(f\"el numero es mayor {num2}\")\n",
        "\n"
      ],
      "metadata": {
        "colab": {
          "base_uri": "https://localhost:8080/"
        },
        "id": "Qi-gcTWwAdCc",
        "outputId": "24049ac5-4c14-4b6a-ebdf-4f4117885002"
      },
      "execution_count": 68,
      "outputs": [
        {
          "output_type": "stream",
          "name": "stdout",
          "text": [
            "dime dos numeros enteros:\n",
            "numero 1:2\n",
            "numero 2:4\n",
            "el numero es mayor 4\n"
          ]
        }
      ]
    },
    {
      "cell_type": "markdown",
      "source": [
        "6.- Programa en Python que lea 4 calificaciones de un alumno, calcular y desplegar el promedio acompañado de la leyenda APROBADO o REPROBADO"
      ],
      "metadata": {
        "id": "qs4XE_UlDhqL"
      }
    },
    {
      "cell_type": "code",
      "source": [
        "cal1 = int(input(\"ingrese un numero:\"))\n",
        "cal2 = int(input(\"ingrese un numero:\"))\n",
        "cal3 = int(input(\"ingrese un numero:\"))\n",
        "cal4 = int(input(\"ingrese un numero:\"))\n",
        "promedio = (cal1+cal2+cal3+cal4)/4\n",
        "print(cal1,\" + \",cal2,\" + \",cal3,\" + \",cal4,\"/4 \",\" = \",promedio)\n",
        "if promedio>6:\n",
        "   print(\"el alumno esta aprobado\")\n",
        "else: \n",
        "   print(\"el alumno esta reprobado\")\n",
        "   \n",
        "\n"
      ],
      "metadata": {
        "colab": {
          "base_uri": "https://localhost:8080/"
        },
        "id": "pozLtAtpDlCD",
        "outputId": "bea0c7d7-372d-407e-d6bc-2c2d73947a40"
      },
      "execution_count": 71,
      "outputs": [
        {
          "output_type": "stream",
          "name": "stdout",
          "text": [
            "ingrese un numero:10\n",
            "ingrese un numero:10\n",
            "ingrese un numero:1\n",
            "ingrese un numero:10\n",
            "10  +  10  +  1  +  10 /4   =  7.75\n",
            "el alumno esta aprobado\n"
          ]
        }
      ]
    },
    {
      "cell_type": "markdown",
      "source": [
        "7.- Programa en Python que a través de opciones (1.- HOMBRE 2.- MUJER ) preguntar al usuario cual es su sexo y desplegar la leyenda “HOMBRE ”, “MUJER”"
      ],
      "metadata": {
        "id": "tnH9Bur4D6CT"
      }
    },
    {
      "cell_type": "code",
      "source": [
        "print(\"¿cual es tu sexo?\")\n",
        "print(\"1.HOMBRE\")\n",
        "print(\"2.MUJER\")\n",
        "opcion1 = input(\"eliga la opcion que corresponde a su sexo 1 o 2:\")\n",
        "if opcion1 == \"1\":\n",
        "    print(\"usted es HOMBRE\")\n",
        "else:\n",
        "    print(\"usted es MUJER\")"
      ],
      "metadata": {
        "colab": {
          "base_uri": "https://localhost:8080/"
        },
        "id": "WdxZEp10D9Gr",
        "outputId": "448f1e49-63e9-4d34-93c8-2b3226a8e0ea"
      },
      "execution_count": 73,
      "outputs": [
        {
          "output_type": "stream",
          "name": "stdout",
          "text": [
            "¿cual es tu sexo?\n",
            "1.HOMBRE\n",
            "2.MUJER\n",
            "eliga la opcion que corresponde a su sexo 1 o 2:1\n",
            "usted es HOMBRE\n"
          ]
        }
      ]
    },
    {
      "cell_type": "markdown",
      "source": [
        "8.- Programa en Python que lea un número entero, y desplegar si el número es “PAR” o “IMPAR” NOTA: EJERCICIOS PARA SER RESUELTOS USANDO EXCLUSIVAMENTE CONDICIONES COMPUESTO\n",
        "\n"
      ],
      "metadata": {
        "id": "gNfYZVm8EIhT"
      }
    },
    {
      "cell_type": "code",
      "source": [
        "print(\"dame un numero entero:\")\n",
        "num = int(input(\"\"))\n",
        "entero = num % 2\n",
        "if entero == 0:\n",
        "    print(\"este numero es par\")\n",
        "else:\n",
        "    print(\"este numero es impar\")"
      ],
      "metadata": {
        "colab": {
          "base_uri": "https://localhost:8080/"
        },
        "id": "ELrj8M-LEPUS",
        "outputId": "9121f029-460a-4547-ffe6-4060c534f885"
      },
      "execution_count": 75,
      "outputs": [
        {
          "output_type": "stream",
          "name": "stdout",
          "text": [
            "dame un numero entero:\n",
            "11\n",
            "este numero es impar\n"
          ]
        }
      ]
    }
  ]
}