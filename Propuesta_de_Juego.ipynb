{
  "nbformat": 4,
  "nbformat_minor": 0,
  "metadata": {
    "colab": {
      "provenance": [],
      "include_colab_link": true
    },
    "kernelspec": {
      "name": "python3",
      "display_name": "Python 3"
    },
    "language_info": {
      "name": "python"
    }
  },
  "cells": [
    {
      "cell_type": "markdown",
      "metadata": {
        "id": "view-in-github",
        "colab_type": "text"
      },
      "source": [
        "<a href=\"https://colab.research.google.com/github/joseman123/python1/blob/main/Propuesta_de_Juego.ipynb\" target=\"_parent\"><img src=\"https://colab.research.google.com/assets/colab-badge.svg\" alt=\"Open In Colab\"/></a>"
      ]
    },
    {
      "cell_type": "markdown",
      "source": [
        "#**Princesas elementales**\n",
        "\n",
        "##Equipo de desarrollo:\n",
        "\n",
        "* Jose Santiago\n",
        "* Ricardo Zambrano\n",
        "\n",
        "##Resumen:\n",
        "\n",
        "Este juego educativo busca competir sanamente contra alumnos de 6to de primaria con la mentalidad de retroalimentarlos y divertirlos de forma simultanea en un juego de cartas fusionado con preguntas y respuestas basadas en su nivel de aprendizaje escolar.\n",
        "\n",
        "##Objetivo\n",
        "\n",
        "* Reforzar aprendizajes y conceptos aprendidos en diferentes materias del curso de 6to grado de manera ludica e interactiva.\n",
        "* Crear una motivacion payor en los niños para que ellos mismos busquen la informacion y recapitulen lo aprendido previamente.\n",
        "\n",
        "##Caracteristicas principales del juego:\n",
        "\n",
        "* El juego sera desarrollado en el lenguaje de programación Python con librerias graficas como Pygame para graficos y audio que mejore la experiencia para el jugador.\n",
        "* Se buscara realizar en base a colores atractivos y amigables para el jugador.\n",
        "* El juego contara con una modalidad de juego de cartas en las cuales si el jugador necesita de ayuda, en cualquier momento podra solicitarla y el juego acudira en su llamado siempre y cuando el jugador responda correctamente una pregunta otorgada por el juego la cual consta de alguna materia.\n",
        "* Se presentara una demostracion de una partida con preguntas aleatorias donde el jugador podra pedir ayuda en el momento que desee y podra evaluarce si domina el tema en cuestion.\n",
        "\n",
        "##Contenido y mecánicas del juego:\n",
        "\n",
        "* El juego consta de una partida de cartas donde las imagenes de las cartas representan elementos (agua, fuego y planta), cada uno tiene una debilidad contra el elemento enterior y la mecanica de la partida es derrotar a las cartas del contrincante (en este caso la computadora).\n",
        "* Durante la partida, el jugador podra pedir apoyo al juego a cambio de una pregunta seleccionada aleatoriamente, si lo hace recibira una recompensa, de lo contrario no obtendra ayuda alguna.\n",
        "\n",
        "##Plan de desarrollo: \n",
        "\n",
        "1.- Investigación en bloques educativos de la SEP sobre educacion de 6to grado\n",
        "\n",
        "2.- Investigación para implementacion de librerias y programacion \n",
        "\n",
        "3.- Programacion e inplementación de las investigaciones anteriores\n",
        "\n",
        "4.- Pruebas y correcciones del programa en ejecucion\n",
        "\n",
        "\n",
        "##Concluciones:\n",
        "\n",
        "Se espera con este juego poder motivar a que los jugadores repitan la partida y se interesen mas por la busqueda de informacion en base a sus conocimientos previos sobre las materias y asi reforzar sus conocimientos sobre matematicas, español, historia, etc.\n",
        "\n",
        "https://www.gob.mx/sep/acciones-y-programas/primaria-educacion-basica"
      ],
      "metadata": {
        "id": "We5JYx20hMAE"
      }
    },
    {
      "cell_type": "code",
      "source": [],
      "metadata": {
        "id": "V7l_rmgGniV_"
      },
      "execution_count": null,
      "outputs": []
    }
  ]
}