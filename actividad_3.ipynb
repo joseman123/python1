{
  "nbformat": 4,
  "nbformat_minor": 0,
  "metadata": {
    "colab": {
      "provenance": [],
      "authorship_tag": "ABX9TyPqKBLh24SbluwMZ0rcABHG",
      "include_colab_link": true
    },
    "kernelspec": {
      "name": "python3",
      "display_name": "Python 3"
    },
    "language_info": {
      "name": "python"
    }
  },
  "cells": [
    {
      "cell_type": "markdown",
      "metadata": {
        "id": "view-in-github",
        "colab_type": "text"
      },
      "source": [
        "<a href=\"https://colab.research.google.com/github/joseman123/python1/blob/main/actividad_3.ipynb\" target=\"_parent\"><img src=\"https://colab.research.google.com/assets/colab-badge.svg\" alt=\"Open In Colab\"/></a>"
      ]
    },
    {
      "cell_type": "markdown",
      "source": [
        "1.- Algoritmo que lea 3 calificaciones calcule el promedio del alumno y desplegar: \n",
        "\n",
        "Si prom < 30 Repetir \n",
        "\n",
        "Si prom >=30 y prom <60 extraordinario \n",
        "\n",
        "Si prom >=60 y prom <70 suficiente \n",
        "\n",
        "Si prom >=70 y prom <80 Regular \n",
        "\n",
        "Si prom >=80 y prom <90 bien \n",
        "\n",
        "Si prom >=90 y prom <98 muy bien \n",
        "\n",
        "Si prom >=98 y prom <=100 excelente \n",
        "\n",
        "Si prom >100 Error en promedio "
      ],
      "metadata": {
        "id": "K1mCQN5RO4s4"
      }
    },
    {
      "cell_type": "code",
      "execution_count": 5,
      "metadata": {
        "colab": {
          "base_uri": "https://localhost:8080/"
        },
        "id": "ByRxy37eoHfz",
        "outputId": "8849b280-d005-442a-e839-11b2486d4e65"
      },
      "outputs": [
        {
          "output_type": "stream",
          "name": "stdout",
          "text": [
            "ingrese la calificacion:30\n",
            "ingrese la calificacion:40\n",
            "ingrese la calificacion:10\n",
            "30.0  +  40.0  +  10.0 /3   =  26.666666666666668\n",
            "repetir\n"
          ]
        }
      ],
      "source": [
        "cal1 = float(input(\"ingrese la calificacion:\"))\n",
        "cal2 = float(input(\"ingrese la calificacion:\"))\n",
        "cal3 = float(input(\"ingrese la calificacion:\"))\n",
        "promedio = (cal1+cal2+cal3)/3\n",
        "print(cal1,\" + \",cal2,\" + \",cal3,\"/3 \",\" = \",promedio)\n",
        "if promedio<30:\n",
        "    print(\"repetir\")\n",
        "elif promedio>=30 and promedio<60: \n",
        "    print(\"promedio de extraordinario\")\n",
        "elif promedio>=60 and promedio<70:\n",
        "    print(\"promedio suficiente\")\n",
        "elif promedio>=70 and promedio<80:\n",
        "    print(\"promedio regular\")\n",
        "elif promedio>=80 and promedio<90:\n",
        "    print(\"promedio bien\") \n",
        "elif promedio>=90 and promedio<98:\n",
        "    print(\"promedio muy bien\")\n",
        "elif promedio>=98 and promedio<=100:\n",
        "    print(\"promedio excelente\")\n",
        "else:\n",
        "    print(\"error en promedio\")\n"
      ]
    },
    {
      "cell_type": "markdown",
      "source": [
        "2.- Algoritmo que sirva para calcular el salario semanal de un trabajador donde se obtiene como dato de entrada las horas semanales trabajadas, el salario por hora. \n",
        "\n",
        "El programa deberá calcular el salario normal, salario extra y salario total, considerando lo siguiente: \n",
        "\n",
        "-Jornada Normal de 40 horas. \n",
        "\n",
        "-El salario normal se considera las horas trabajadas menores o igual a la jornada normal\n",
        "\n",
        "-Salario extra se considera las horas trabajadas mayores a la jornada normal y se pagan dobles las primeras 9 y triples a partir de la décima hora extra "
      ],
      "metadata": {
        "id": "ZlqBUE6OCRWV"
      }
    },
    {
      "cell_type": "code",
      "source": [
        "nombre = int(input(\"escriba su matricula de trabajo:\"))\n",
        "horas_trabajadas = int(input(\"escriba las horas trabajadas:\"))\n",
        "salario_por_hora = float(input(\"esciba el salario por hora:\"))\n",
        "\n",
        "if horas_trabajadas <= 40:\n",
        "  salario_normal = horas_trabajadas*salario_por_hora\n",
        "  horas_extras = 0\n",
        "else:\n",
        "  salario_normal = 40 * salario_por_hora\n",
        "  horas_extras = horas_trabajadas-40\n",
        "\n",
        "if horas_extras > 0:\n",
        "  if horas_extras <=9:\n",
        "   salario_extra = horas_extras * salario_por_hora*2\n",
        "  else:\n",
        "   salario_extra = 9*salario_por_hora*2+(horas_extras-9)*salario_por_hora*3\n",
        "\n",
        "else:\n",
        "   salario_extra:0\n",
        "\n",
        "salario_total = salario_normal + horas_extras\n",
        "\n",
        "print(\"el Salario normal es:\",\" = \",\"$\",salario_normal)\n",
        "print(\"el Salario extra es:\",\" = \",\"$\",salario_extra)\n",
        "print(\"el Salario total es:\",\" = \",\"$\",salario_total)\n",
        "print(\"HASTA LUEGO,VUELVA PRONTO.\")\n",
        "\n"
      ],
      "metadata": {
        "colab": {
          "base_uri": "https://localhost:8080/"
        },
        "id": "t5BKAkZpPe3V",
        "outputId": "c777e388-0964-45a0-9df5-df8543742053"
      },
      "execution_count": 6,
      "outputs": [
        {
          "output_type": "stream",
          "name": "stdout",
          "text": [
            "escriba su matricula de trabajo:5252\n",
            "escriba las horas trabajadas:90\n",
            "esciba el salario por hora:100\n",
            "el Salario normal es:  =  $ 4000.0\n",
            "el Salario extra es:  =  $ 14100.0\n",
            "el Salario total es:  =  $ 4050.0\n",
            "HASTA LUEGO,VUELVA PRONTO.\n"
          ]
        }
      ]
    },
    {
      "cell_type": "markdown",
      "source": [
        "3.- Algoritmo que sirva para desplegar el Total de una llamada telefónica donde se pide como datos de entrada los minutos y el tipo de llamada, se cobra de la siguiente manera:\n",
        "\n",
        "1.- Llamada Local $3.00 sin límite de tiempo \n",
        "\n",
        "2.- Llamada Nacional $7.00 por los 3 primeros minutos y $2.00 minuto adicional \n",
        "\n",
        "3.- Llamada Internacional $9.00 por los 2 primeros minutos y $4.00 minuto adicional\n",
        "\n",
        " Desplegar, Subtotal,Iva (16%) y Total."
      ],
      "metadata": {
        "id": "KRnTzat-H7eb"
      }
    },
    {
      "cell_type": "code",
      "source": [
        "minutos = int(input(\"escriba los minutos de la llamada: \"))\n",
        "tipo = input(\"escriba que tipo de llamada hizo (local,nacional,internacional): \")\n",
        "\n",
        "if tipo == \"local\":\n",
        "  costo = 3.00\n",
        "elif tipo == \"nacional\":\n",
        "  if minutos<3:\n",
        "    costo = 7.00\n",
        "  else:\n",
        "    costo = 7.00 + 2.00 * (minutos - 3)\n",
        "elif tipo == \"internacional\":\n",
        "  if minutos<2:\n",
        "    costo = 9.00\n",
        "  else:\n",
        "    costo = 9.00 + 4.00 * (minutos - 2)\n",
        "\n",
        "  subtotal = costo + costo * 0.16\n",
        "  iva = subtotal * 0.16\n",
        "  total = subtotal + iva\n",
        "\n",
        "  print(\"subtotal\",subtotal)\n",
        "  print(\"IVA (16%)\",iva)\n",
        "  print(\"total\",total)\n",
        "\n",
        "\n",
        "\n",
        "\n",
        "\n",
        "  \n",
        "\n",
        "\n",
        "\n",
        "\n",
        "\n"
      ],
      "metadata": {
        "colab": {
          "base_uri": "https://localhost:8080/"
        },
        "id": "TKAyTBmyIRoz",
        "outputId": "9aafcea7-0f84-46eb-f80c-e4b417ebd9bf"
      },
      "execution_count": null,
      "outputs": [
        {
          "output_type": "stream",
          "name": "stdout",
          "text": [
            "escriba los minutos de la llamada: 15\n",
            "escriba que tipo de llamada hizo (local,nacional,internacional): internacional\n",
            "subtotal 70.76\n",
            "IVA (16%) 11.321600000000002\n",
            "total 82.08160000000001\n"
          ]
        }
      ]
    },
    {
      "cell_type": "markdown",
      "source": [
        "4.- Algoritmo que sirva para calcular el Total a pagar por consumo de agua, donde el dato de entrada son los M3 de agua consumidos, Tomar en cuenta que se cobra escalonada de la Siguiente manera: \n",
        "\n",
        "Rango1: 0 al 4 M3 $50 x facturación sin importar cuánto consumió en este rango \n",
        "\n",
        "Rango2: 5 a 15 M3 $8.00 x M3 \n",
        "\n",
        "Rango3: 16 a 50 M3 $10.00 x M3 \n",
        "\n",
        "Rango4: 51 M3 en adelante $11.00 x M3 \n",
        "\n",
        "Nota: Desplegar SubTotal, Iva(16%), y Total a pagar."
      ],
      "metadata": {
        "id": "V0HWOIbnwE3e"
      }
    },
    {
      "cell_type": "code",
      "source": [
        "m3_consumidos = float(input(\"Ingrese los m3 de agua consumidos: \"))\n",
        "\n",
        "rango1 = 50\n",
        "rango2 = 8\n",
        "rango3 = 10\n",
        "rango4 = 11\n",
        "\n",
        "subtotal = 0\n",
        "\n",
        "if m3_consumidos <= 4:\n",
        "    subtotal = rango1\n",
        "else:\n",
        "    subtotal += rango1 \n",
        "    if m3_consumidos <= 15:\n",
        "        subtotal += (m3_consumidos - 4) * rango2\n",
        "    elif m3_consumidos <= 50:\n",
        "        subtotal += (15 - 4) * rango2 + (m3_consumidos - 15) * rango3\n",
        "    else:\n",
        "        subtotal += (15 - 4) * rango2 + (50 - 15) * rango3 + (m3_consumidos - 50) * rango4\n",
        "\n",
        "iva = subtotal * 0.16\n",
        "total = subtotal + iva\n",
        "\n",
        "print(\"Subtotal a pagar: $\", subtotal)\n",
        "print(\"IVA (16%): $\", iva)\n",
        "print(\"Total a pagar: $\", total)\n",
        "\n",
        " \n",
        "\n",
        "\n",
        "\n",
        "\n"
      ],
      "metadata": {
        "colab": {
          "base_uri": "https://localhost:8080/"
        },
        "id": "piHXdkQswLCs",
        "outputId": "699fc955-e646-4fe8-ecb7-659a53f30511"
      },
      "execution_count": null,
      "outputs": [
        {
          "output_type": "stream",
          "name": "stdout",
          "text": [
            "Ingrese los m3 de agua consumidos: 15\n",
            "Subtotal a pagar: $ 138.0\n",
            "IVA (16%): $ 22.080000000000002\n",
            "Total a pagar: $ 160.08\n"
          ]
        }
      ]
    },
    {
      "cell_type": "markdown",
      "source": [
        "5- En la materia de Metodología de la programación se aplican 5 exámenes, calcular el promedio final de la materia donde la calificación menor de los exámenes se anula y el promedio se calcula en base a 4 exámenes.\n",
        "\n",
        "Desplegar el promedio final. "
      ],
      "metadata": {
        "id": "qN5Ki9b8Y5cW"
      }
    },
    {
      "cell_type": "code",
      "source": [
        "examen1 = float(input(\"Ingresa la calificación del primer examen: \"))\n",
        "examen2 = float(input(\"Ingresa la calificación del segundo examen: \"))\n",
        "examen3 = float(input(\"Ingresa la calificación del tercer examen: \"))\n",
        "examen4 = float(input(\"Ingresa la calificación del cuarto examen: \"))\n",
        "examen5 = float(input(\"Ingresa la calificación del quinto examen: \"))\n",
        "calificaciones = [examen1, examen2, examen3, examen4, examen5]\n",
        "calificaciones.sort(reverse=True)\n",
        "promedio = sum(calificaciones[:4]) / 4\n",
        "print(\"el promedio de la materia es:\",promedio)\n",
        "\n",
        "\n",
        "\n",
        "\n"
      ],
      "metadata": {
        "colab": {
          "base_uri": "https://localhost:8080/"
        },
        "id": "4N1wVK4sZMB-",
        "outputId": "45b016bf-3675-42a3-dd00-206e936e88c8"
      },
      "execution_count": null,
      "outputs": [
        {
          "output_type": "stream",
          "name": "stdout",
          "text": [
            "Ingresa la calificación del primer examen: 50\n",
            "Ingresa la calificación del segundo examen: 40\n",
            "Ingresa la calificación del tercer examen: 100\n",
            "Ingresa la calificación del cuarto examen: 70\n",
            "Ingresa la calificación del quinto examen: 80\n",
            "el promedio de la materia es: 75.0\n"
          ]
        }
      ]
    },
    {
      "cell_type": "markdown",
      "source": [
        "6.- Algoritmo que sirva para el juego del CHINCHAMPU (Piedra, Papel, Tijera) para 1 jugador y la computadora, (usar condición anidada) \n",
        "\n"
      ],
      "metadata": {
        "id": "yn_60o4M3UTR"
      }
    },
    {
      "cell_type": "code",
      "source": [
        "import random\n",
        "opciones = [\"piedra\", \"papel\", \"tijera\"]\n",
        "\n",
        "jugador = input(\"Elige piedra, papel o tijera: \")\n",
        "\n",
        "servidor = random.choice(opciones)\n",
        "\n",
        "if jugador == \"piedra\":\n",
        "    if servidor == \"piedra\":\n",
        "        print(\"Empate\")\n",
        "    elif servidor == \"papel\":\n",
        "        print(\"Gana el servidor\")\n",
        "    else:\n",
        "        print(\"usted es el ganador\")\n",
        "elif jugador == \"papel\":\n",
        "    if servidor == \"piedra\":\n",
        "        print(\"usted es el ganador\")\n",
        "    elif servidor == \"papel\":\n",
        "        print(\"Empate\")\n",
        "    else:\n",
        "        print(\"Gana el servidor\")\n",
        "else: \n",
        "    if servidor == \"piedra\":\n",
        "        print(\"Gana el servidor\")\n",
        "    elif servidor == \"papel\":\n",
        "        print(\"usted es el ganador\")\n",
        "    else:\n",
        "        print(\"Empate\")"
      ],
      "metadata": {
        "colab": {
          "base_uri": "https://localhost:8080/"
        },
        "id": "09TqtSN13U-R",
        "outputId": "fffbfb75-f40e-40d1-aa48-5a78a9b36f5e"
      },
      "execution_count": 12,
      "outputs": [
        {
          "output_type": "stream",
          "name": "stdout",
          "text": [
            "Elige piedra, papel o tijera: papel\n",
            "usted es el ganador\n"
          ]
        }
      ]
    },
    {
      "cell_type": "markdown",
      "source": [
        "7.- Algoritmo que sirva para el juego del CHINCHAMPU (Piedra, Papel, Tijera) para 1 jugador y la computadora, (usar selección múltiple) \n",
        "\n"
      ],
      "metadata": {
        "id": "ckU7jDcR62ex"
      }
    },
    {
      "cell_type": "code",
      "source": [],
      "metadata": {
        "id": "zw9fEvin66Fp"
      },
      "execution_count": null,
      "outputs": []
    }
  ]
}