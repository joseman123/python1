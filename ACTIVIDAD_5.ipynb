{
  "nbformat": 4,
  "nbformat_minor": 0,
  "metadata": {
    "colab": {
      "provenance": [],
      "authorship_tag": "ABX9TyO+LB9urZWt9NGeJ5dh1Fbv",
      "include_colab_link": true
    },
    "kernelspec": {
      "name": "python3",
      "display_name": "Python 3"
    },
    "language_info": {
      "name": "python"
    }
  },
  "cells": [
    {
      "cell_type": "markdown",
      "metadata": {
        "id": "view-in-github",
        "colab_type": "text"
      },
      "source": [
        "<a href=\"https://colab.research.google.com/github/joseman123/python1/blob/main/ACTIVIDAD_5.ipynb\" target=\"_parent\"><img src=\"https://colab.research.google.com/assets/colab-badge.svg\" alt=\"Open In Colab\"/></a>"
      ]
    },
    {
      "cell_type": "markdown",
      "source": [
        "ACTIVIDAD 5\n",
        "\n",
        "JOSE MANUEL HERNANDEZ SANTIAGO\n",
        "\n",
        "MATRICULA:370711\n",
        "\n",
        "GRUPO:432\n"
      ],
      "metadata": {
        "id": "APD8yUCfAK-X"
      }
    },
    {
      "cell_type": "markdown",
      "source": [
        "1.- Programa en Python que genere 40 números aleatorios entre el 0 y 200, desplegar los números y la leyenda de cada número si es par o impar , la cantidad de los números pares e impares así como la suma de los números pares o impares."
      ],
      "metadata": {
        "id": "OURPR6Af_r2R"
      }
    },
    {
      "cell_type": "code",
      "source": [
        "try:\n",
        "    import random\n",
        "\n",
        "    for i in range(40):\n",
        "        num = random.randint(1,200)\n",
        "        if num % 2:\n",
        "            print(\"impar\")\n",
        "            print(f\"{i+1} == {num}\")\n",
        "  \n",
        "        else:\n",
        "            print(\"par\")\n",
        "            print(f\"{i+1} == {num}\")\n",
        "except:\n",
        "  print(\"no se permiten letras\")\n"
      ],
      "metadata": {
        "id": "VusGNsF0_u1f",
        "colab": {
          "base_uri": "https://localhost:8080/"
        },
        "outputId": "b919ba7b-94f7-431f-bea2-1203ec3da88f"
      },
      "execution_count": 16,
      "outputs": [
        {
          "output_type": "stream",
          "name": "stdout",
          "text": [
            "par\n",
            "1 == 166\n",
            "impar\n",
            "2 == 99\n",
            "par\n",
            "3 == 46\n",
            "impar\n",
            "4 == 185\n",
            "par\n",
            "5 == 30\n",
            "impar\n",
            "6 == 63\n",
            "impar\n",
            "7 == 199\n",
            "par\n",
            "8 == 14\n",
            "par\n",
            "9 == 68\n",
            "par\n",
            "10 == 52\n",
            "par\n",
            "11 == 58\n",
            "par\n",
            "12 == 162\n",
            "impar\n",
            "13 == 55\n",
            "par\n",
            "14 == 72\n",
            "par\n",
            "15 == 94\n",
            "impar\n",
            "16 == 147\n",
            "par\n",
            "17 == 190\n",
            "par\n",
            "18 == 22\n",
            "impar\n",
            "19 == 133\n",
            "par\n",
            "20 == 66\n",
            "par\n",
            "21 == 32\n",
            "impar\n",
            "22 == 173\n",
            "impar\n",
            "23 == 111\n",
            "par\n",
            "24 == 8\n",
            "par\n",
            "25 == 128\n",
            "impar\n",
            "26 == 137\n",
            "par\n",
            "27 == 142\n",
            "impar\n",
            "28 == 11\n",
            "par\n",
            "29 == 50\n",
            "impar\n",
            "30 == 117\n",
            "par\n",
            "31 == 140\n",
            "impar\n",
            "32 == 17\n",
            "par\n",
            "33 == 48\n",
            "par\n",
            "34 == 50\n",
            "par\n",
            "35 == 112\n",
            "impar\n",
            "36 == 131\n",
            "impar\n",
            "37 == 191\n",
            "par\n",
            "38 == 38\n",
            "impar\n",
            "39 == 159\n",
            "impar\n",
            "40 == 193\n"
          ]
        }
      ]
    },
    {
      "cell_type": "markdown",
      "source": [
        "2.- Programa en Python que despliegue la tabla de multiplicar de un número dado (número entre el 1 y 20).\n",
        "\n"
      ],
      "metadata": {
        "id": "RyI_1dkEQrM2"
      }
    },
    {
      "cell_type": "code",
      "source": [
        "try:\n",
        "    import random\n",
        "\n",
        "    numero = random.randint(1, 20)\n",
        "\n",
        "    numero = int(input(\"dame el numero \"))\n",
        "\n",
        "    for i in range(1, 11):\n",
        "        resultado = numero * i\n",
        "        print(numero, \"x\", i, \"=\", resultado)\n",
        "\n",
        "except:\n",
        " print(\"no se permiten letras\")"
      ],
      "metadata": {
        "colab": {
          "base_uri": "https://localhost:8080/"
        },
        "id": "gc7ML7qtcVON",
        "outputId": "6a7e2b33-c816-4a2e-8803-d44631891c9f"
      },
      "execution_count": null,
      "outputs": [
        {
          "output_type": "stream",
          "name": "stdout",
          "text": [
            "dame el numero 7\n",
            "7 x 1 = 7\n",
            "7 x 2 = 14\n",
            "7 x 3 = 21\n",
            "7 x 4 = 28\n",
            "7 x 5 = 35\n",
            "7 x 6 = 42\n",
            "7 x 7 = 49\n",
            "7 x 8 = 56\n",
            "7 x 9 = 63\n",
            "7 x 10 = 70\n"
          ]
        }
      ]
    },
    {
      "cell_type": "markdown",
      "source": [
        "3.- Programa en Python que lea una calificación, las calificación deberá estar en el rango de 0 a 100, si hay un error de captura, mostrar mensaje de error. con la calificación correcta mostrar msg de aprobado reprobado. "
      ],
      "metadata": {
        "id": "TZXVEQhhd-kq"
      }
    },
    {
      "cell_type": "code",
      "source": [
        "import random\n",
        "\n",
        "while True:\n",
        "    try:\n",
        "        calificacion = int(input(\"Ingresa una calificación entre 0 y 100: \"))\n",
        "        if calificacion < 0 or calificacion > 100:\n",
        "            raise ValueError\n",
        "        break\n",
        "    except ValueError:\n",
        "        print(\"Error: Ingresa una calificación válida.\")\n",
        "\n",
        "if calificacion >= 70:\n",
        "    print(\"Aprobado.\")\n",
        "else:\n",
        "    print(\"Reprobado.\")\n",
        "\n",
        "for i in range(random.randint(1, 10)):\n",
        "    print(\"hasta luego\")\n"
      ],
      "metadata": {
        "colab": {
          "base_uri": "https://localhost:8080/"
        },
        "id": "A9oQ3_gTftkH",
        "outputId": "6331c573-550d-4f13-d396-a8777e4cd13d"
      },
      "execution_count": null,
      "outputs": [
        {
          "output_type": "stream",
          "name": "stdout",
          "text": [
            "Ingresa una calificación entre 0 y 100: 200\n",
            "Error: Ingresa una calificación válida.\n",
            "Ingresa una calificación entre 0 y 100: 40\n",
            "Reprobado.\n",
            "hasta luego\n"
          ]
        }
      ]
    },
    {
      "cell_type": "markdown",
      "source": [
        "4.- Programa en Python que lea n cantidad de números enteros dentro de un rango dado (> 0 ) , el programa deberá terminar cuando el usuario introduzca el número cero.\n",
        "\n",
        "desplegar la suma de números y la media."
      ],
      "metadata": {
        "id": "Sydm82k0gA0y"
      }
    },
    {
      "cell_type": "code",
      "source": [
        "import random\n",
        "\n",
        "rango = int(input(\"Ingrese el rango de números permitido (>0): \"))\n",
        "\n",
        "numeros = []\n",
        "while True:\n",
        "    try:\n",
        "        numero = int(input(\"Ingrese un número (0 para salir): \"))\n",
        "        if numero == 0:\n",
        "            break\n",
        "        elif numero < 0 or numero > rango:\n",
        "            print(f\"El número debe estar dentro del rango [1, {rango}]\")\n",
        "        else:\n",
        "            numeros.append(numero)\n",
        "    except ValueError:\n",
        "        print(\"Entrada inválida, intente nuevamente\")\n",
        "\n",
        "suma = 0\n",
        "for num in numeros:\n",
        "    suma += num\n",
        "media = suma / len(numeros)\n",
        "\n",
        "\n",
        "print(f\"Los números ingresados son: {numeros}\")\n",
        "print(f\"La suma de los números es: {suma}\")\n",
        "print(f\"La media de los números es: {media}\")\n"
      ],
      "metadata": {
        "colab": {
          "base_uri": "https://localhost:8080/"
        },
        "id": "stg77AKDgI6t",
        "outputId": "dab47fe6-1027-48ae-e5f2-c143d0bb36a8"
      },
      "execution_count": null,
      "outputs": [
        {
          "output_type": "stream",
          "name": "stdout",
          "text": [
            "Ingrese el rango de números permitido (>0): 3\n",
            "Ingrese un número (0 para salir): 2\n",
            "Ingrese un número (0 para salir): 1\n",
            "Ingrese un número (0 para salir): 5\n",
            "El número debe estar dentro del rango [1, 3]\n",
            "Ingrese un número (0 para salir): 2\n",
            "Ingrese un número (0 para salir): 0\n",
            "Los números ingresados son: [2, 1, 2]\n",
            "La suma de los números es: 5\n",
            "La media de los números es: 1.6666666666666667\n"
          ]
        }
      ]
    },
    {
      "cell_type": "markdown",
      "source": [
        "5.- Programa en Python que sirva para leer el promedio de una materia. donde el usuario tendrá un máximo de 3 oportunidades de cursar la materia, si el promedio es aprobado, felicitarlo y continuar el siguiente semestre, si promedio es reprobado deberá salir mensaje de repetir materia o es baja académica si ha reprobado 3 veces. "
      ],
      "metadata": {
        "id": "BSZAGJL4hYoH"
      }
    },
    {
      "cell_type": "code",
      "source": [
        "import random\n",
        "\n",
        "nota_minima = 60.0\n",
        "\n",
        "materia = input(\"Ingresa el nombre de la materia: \")\n",
        "\n",
        "reprobaciones = 0\n",
        "while reprobaciones < 3:\n",
        "    \n",
        "    try:\n",
        "        promedio = float(input(\"Ingresa tu promedio: \"))\n",
        "    except ValueError:\n",
        "        print(\"Error: debes ingresar un número.\")\n",
        "        continue\n",
        "    \n",
        "    if promedio >= nota_minima:\n",
        "        print(\"¡Felicidades,Has aprobado la materia.\".format(materia, promedio))\n",
        "        break  \n",
        "    else:\n",
        "        print(\"Lo siento,pero has reprobado la materia.\".format(materia, promedio))\n",
        "        reprobaciones += 1\n",
        "        \n",
        "        if reprobaciones == 3:\n",
        "            mensaje_de_baja = [\"Lo siento,pero no has podido aprobar la materia de después de tres intentos,estas dado de baja4.\".format(materia)]\n",
        "                             \n",
        "            print(random.choice(mensaje_de_baja))\n"
      ],
      "metadata": {
        "colab": {
          "base_uri": "https://localhost:8080/"
        },
        "id": "0rf6-jU6hcew",
        "outputId": "448da935-03bc-4e8e-ff04-a4148f0dea6d"
      },
      "execution_count": null,
      "outputs": [
        {
          "output_type": "stream",
          "name": "stdout",
          "text": [
            "Ingresa el nombre de la materia: quimica\n",
            "Ingresa tu promedio: 40\n",
            "Lo siento,pero has reprobado la materia.\n",
            "Ingresa tu promedio: 30\n",
            "Lo siento,pero has reprobado la materia.\n",
            "Ingresa tu promedio: 20\n",
            "Lo siento,pero has reprobado la materia.\n",
            "Lo siento,pero no has podido aprobar la materia de después de tres intentos,estas dado de baja4.\n"
          ]
        }
      ]
    },
    {
      "cell_type": "markdown",
      "source": [
        "PARTE 2: "
      ],
      "metadata": {
        "id": "JOQPWSCDlrJK"
      }
    },
    {
      "cell_type": "markdown",
      "source": [
        "1.- función que lea n cantidad de números hasta que el usuario lo desee, desplegar la suma de los números, media y valor de los números mayores y menores."
      ],
      "metadata": {
        "id": "Swpz8DNxluha"
      }
    },
    {
      "cell_type": "code",
      "source": [
        "import random\n",
        "\n",
        "def pedir_numero():\n",
        "    while True:\n",
        "        try:\n",
        "            numero = int(input(\"Ingresa un número: \"))\n",
        "            return numero\n",
        "        except ValueError:\n",
        "            print(\"Error: Debes ingresar un número entero.\")\n",
        "\n",
        "while True:\n",
        "    try:\n",
        "        cantidad_numeros = int(input(\"Ingrese la cantidad de números que desea ingresar: \"))\n",
        "        break\n",
        "    except ValueError:\n",
        "        print(\"Error: Debes ingresar un número entero.\")\n",
        "\n",
        "numeros = []\n",
        "for i in range(cantidad_numeros):\n",
        "    numeros.append(pedir_numero())\n",
        "\n",
        "suma = sum(numeros)\n",
        "media = suma / len(numeros)\n",
        "mayor = max(numeros)\n",
        "menor = min(numeros)\n",
        "\n",
        "\n",
        "print(\"La suma de los números es:\", suma)\n",
        "print(\"La media de los números es:\", media)\n",
        "print(\"El número mayor es:\", mayor)\n",
        "print(\"El número menor es:\", menor)\n"
      ],
      "metadata": {
        "colab": {
          "base_uri": "https://localhost:8080/"
        },
        "id": "Qp5PUKU16RJw",
        "outputId": "fb867584-1fef-41d0-eb5e-bb20704fb3cd"
      },
      "execution_count": 17,
      "outputs": [
        {
          "output_type": "stream",
          "name": "stdout",
          "text": [
            "Ingrese la cantidad de números que desea ingresar: 5\n",
            "Ingresa un número: 10\n",
            "Ingresa un número: 20\n",
            "Ingresa un número: 0\n",
            "Ingresa un número: 2\n",
            "Ingresa un número: 5\n",
            "La suma de los números es: 37\n",
            "La media de los números es: 7.4\n",
            "El número mayor es: 20\n",
            "El número menor es: 0\n"
          ]
        }
      ]
    },
    {
      "cell_type": "markdown",
      "source": [
        "2.- función que genere 15 números impares entre 10 y 60 o máximo de 25 números. desplegar la media de los pares y media de impares."
      ],
      "metadata": {
        "id": "qdkVZooqntvf"
      }
    },
    {
      "cell_type": "code",
      "source": [
        "import random\n",
        "\n",
        "numeros_impares = []\n",
        "numeros_pares = []\n",
        "\n",
        "for i in range(25):\n",
        "    num = random.randint(10, 60)\n",
        "    if num % 2 == 0:\n",
        "        numeros_pares.append(num)\n",
        "    else:\n",
        "        numeros_impares.append(num)\n",
        "    if len(numeros_impares) == 15:\n",
        "        break\n",
        "\n",
        "print(\"Números impares:\", numeros_impares)\n",
        "print(\"Números pares:\", numeros_pares)\n",
        "\n",
        "try:\n",
        "    media_impares = sum(numeros_impares) / len(numeros_impares)\n",
        "    print(\"Media de los impares:\", media_impares)\n",
        "except ZeroDivisionError:\n",
        "    print(\"No hay números impares.\")\n",
        "\n",
        "try:\n",
        "    media_pares = sum(numeros_pares) / len(numeros_pares)\n",
        "    print(\"Media de los pares:\", media_pares)\n",
        "except ZeroDivisionError:\n",
        "    print(\"No hay números pares.\")\n"
      ],
      "metadata": {
        "id": "7-us-4Ujobjs",
        "colab": {
          "base_uri": "https://localhost:8080/"
        },
        "outputId": "98cb40a1-53ed-421e-af36-3c4fa3a714d3"
      },
      "execution_count": 8,
      "outputs": [
        {
          "output_type": "stream",
          "name": "stdout",
          "text": [
            "Números impares: [53, 11, 27, 13, 47, 45, 45, 39, 55, 21, 21, 29, 11, 29]\n",
            "Números pares: [54, 42, 20, 56, 18, 22, 20, 60, 52, 32, 14]\n",
            "Media de los impares: 31.857142857142858\n",
            "Media de los pares: 35.45454545454545\n"
          ]
        }
      ]
    },
    {
      "cell_type": "markdown",
      "source": [
        "3.- función que sirva para leer y validar un número dentro de un rango dado por el usuario. repetir esta acción hasta que el usuario lo desee, desplegar cantidad de números y promedio de los números.."
      ],
      "metadata": {
        "id": "cfQGTGbj7JUj"
      }
    },
    {
      "cell_type": "markdown",
      "source": [
        "4.- función que reciba como parámetro los valores para el área de un triángulo y retorne su resultado\n",
        "\n"
      ],
      "metadata": {
        "id": "2jz9mC_m-bKp"
      }
    },
    {
      "cell_type": "code",
      "source": [
        "import random\n",
        "\n",
        "def calcular_base_altura(area):\n",
        "    \n",
        "    base = random.randint(1, 10)\n",
        "    altura = area / base\n",
        "    return (base, altura)\n",
        "\n",
        "def calcular_area_triangulo(area):\n",
        "    \n",
        "    try:\n",
        "        base, altura = calcular_base_altura(area)\n",
        "        resultado = (base * altura) / 2\n",
        "        return resultado\n",
        "    except ZeroDivisionError:\n",
        "        print(\"La base del triángulo no puede ser cero.\")\n",
        "\n",
        "area = float(input(\"Ingrese el área del triángulo: \"))\n",
        "\n",
        "resultado = calcular_area_triangulo(area)\n",
        "\n",
        "print(\"El área del triángulo es:\", resultado)\n"
      ],
      "metadata": {
        "colab": {
          "base_uri": "https://localhost:8080/"
        },
        "id": "0tXYV60y-f3o",
        "outputId": "641d3c46-99ec-48c7-f5f2-e39f4fb6e59d"
      },
      "execution_count": 14,
      "outputs": [
        {
          "output_type": "stream",
          "name": "stdout",
          "text": [
            "Ingrese el área del triángulo: 5\n",
            "El área del triángulo es: 2.5\n"
          ]
        }
      ]
    },
    {
      "cell_type": "markdown",
      "source": [
        " función que sirva para validar un número dentro de un rango dado"
      ],
      "metadata": {
        "id": "uDV0o0fd-6sc"
      }
    },
    {
      "cell_type": "code",
      "source": [
        "import random\n",
        "\n",
        "rango_minimo = 1\n",
        "rango_maximo = 100\n",
        "\n",
        "numero_valido = random.randint(rango_minimo, rango_maximo)\n",
        "\n",
        "for intento in range(1, 11): \n",
        "    try:\n",
        "        numero_usuario = int(input(f\"Intento {intento}: Adivina el número entre {rango_minimo} y {rango_maximo}: \"))\n",
        "        \n",
        "        if numero_usuario < rango_minimo or numero_usuario > rango_maximo:\n",
        "            raise ValueError(f\"El número debe estar entre {rango_minimo} y {rango_maximo}\")\n",
        "            \n",
        "        if numero_usuario == numero_valido:\n",
        "            print(f\"¡Felicidades! Adivinaste el número en {intento} intentos.\")\n",
        "            break  \n",
        "            \n",
        "        elif numero_usuario < numero_valido:\n",
        "            print(\"El número a adivinar es mayor\")\n",
        "        else:\n",
        "            print(\"El número a adivinar es menor\")\n",
        "            \n",
        "    except ValueError as error:\n",
        "        print(f\"Error: {error}\")\n"
      ],
      "metadata": {
        "colab": {
          "base_uri": "https://localhost:8080/"
        },
        "id": "MTwPBJNu-_o5",
        "outputId": "0e33c1cb-fc63-483f-8c8f-76735b4afa9b"
      },
      "execution_count": 15,
      "outputs": [
        {
          "output_type": "stream",
          "name": "stdout",
          "text": [
            "Intento #1: Adivina el número entre 1 y 100: 2\n",
            "El número a adivinar es mayor\n",
            "Intento #2: Adivina el número entre 1 y 100: 40\n",
            "El número a adivinar es menor\n",
            "Intento #3: Adivina el número entre 1 y 100: 20\n",
            "El número a adivinar es mayor\n",
            "Intento #4: Adivina el número entre 1 y 100: 25\n",
            "El número a adivinar es mayor\n",
            "Intento #5: Adivina el número entre 1 y 100: 30\n",
            "¡Felicidades! Adivinaste el número en 5 intentos.\n"
          ]
        }
      ]
    }
  ]
}