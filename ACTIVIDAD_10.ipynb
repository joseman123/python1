{
  "cells": [
    {
      "cell_type": "markdown",
      "metadata": {
        "id": "view-in-github",
        "colab_type": "text"
      },
      "source": [
        "<a href=\"https://colab.research.google.com/github/joseman123/python1/blob/main/ACTIVIDAD_10.ipynb\" target=\"_parent\"><img src=\"https://colab.research.google.com/assets/colab-badge.svg\" alt=\"Open In Colab\"/></a>"
      ]
    },
    {
      "cell_type": "markdown",
      "metadata": {
        "id": "9ZXpwSXqWXgW"
      },
      "source": [
        "REALIZA UN PROGRAMA QUE UTILICE UNA LISTA DE DICCIONARIOS \n",
        "\n",
        "\n",
        "\n",
        "MENU\n",
        "\n",
        "1.- Agregar (automatico)\n",
        "\n",
        "2.- Agregar (manual)\n",
        "\n",
        "3.- Imprimir lista\n",
        "\n",
        " a)\n",
        "\n",
        " b)\n",
        "\n",
        " c) \n",
        "\n",
        "4.- Buscar {ID} \n",
        "\n",
        "5.- Ordenar\n",
        "\n",
        "6.- Eliminar {ID}\n",
        "\n",
        "7.- Borrar Toda la lista {ID}\n",
        "\n",
        "0.- SALIR\n",
        "\n",
        "\n",
        "\n",
        "NOTA: Los datos del diccionario son los Datos básicos de un trabajador de una fabrica. \n",
        "\n",
        "\n",
        "\n",
        "\n",
        "NOTA 2: VALIDAR EL PROGRAMA 100% \n",
        "\n",
        "Preguntar siempre si esta seguro eliminar, No ordenar si ya esta Ordenado, decir si lista vacía, no existe o mostrar si estala búsqueda, No se permiten ID repetidos"
      ]
    },
    {
      "cell_type": "code",
      "source": [
        "import random\n",
        "from IPython.display import clear_output\n",
        "from operator import itemgetter"
      ],
      "metadata": {
        "id": "mUOLQ6UtqUov"
      },
      "execution_count": 27,
      "outputs": []
    },
    {
      "cell_type": "code",
      "source": [
        "def vali_num(ri=-320000, rf=320000, msg = \"Dame un numero: \", msg2=\"Error de rango \", msg3=\"Solo numeros \"):\n",
        "\n",
        "  while True:\n",
        "      try:\n",
        "          num =  int(input(msg))\n",
        "      except ValueError:\n",
        "          print(msg3)\n",
        "          continue\n",
        "      if num not in range(ri, rf):\n",
        "          print(msg2)\n",
        "          continue\n",
        "      else:\n",
        "          break\n",
        "\n",
        "  return num"
      ],
      "metadata": {
        "id": "nmsc1Uiwq0RZ"
      },
      "execution_count": 28,
      "outputs": []
    },
    {
      "cell_type": "code",
      "source": [
        "def crea_aleatorio(lista):\n",
        "    llaves = [\"Id\", \"Nombre\", \"Apellido paterno\", \"Apellido materno\", \"Sexo\", \"Edad\"]\n",
        "    nombres_h = [\"JOSE\", \"MANUEL\", \"MELQUICEEDEC\", \"GUSTVO\", \"RAFAEL\", \"JACOB\"]\n",
        "    nombres_m = [\"PETRA\", \"OLGA\", \"ALEXANDRA\", \"LESSLI\", \"ERICKA\", \"NICIA\"]\n",
        "    paterno = [\"HERNANDEZ\", \"SANTIAGO\", \"LUIS\", \"PONCE\", \"SILVA\", \"CLARK\", \"PEREZ\"]\n",
        "    materno = [\"RODRIGUEZ\", \"OZUNA\", \"GARZA\", \"SILVA\", \"PEREZ\", \"BAUTISTA\", \"MOYA\"]\n",
        "    sexo = [\"H\", \"M\"]\n",
        "\n",
        "    while True:\n",
        "      persona = []\n",
        "      id_repet = 0\n",
        "      while id_repet == 0:\n",
        "          id = random.randint(1000, 5000)\n",
        "          id_repet = (lista, id)\n",
        "\n",
        "      persona.append(id)\n",
        "      x = random.randint(0, 1)\n",
        "      if x == 0:\n",
        "        persona.append(random.choice(nombres_h))\n",
        "      if x == 1:\n",
        "        persona.append(random.choice(nombres_m))\n",
        "\n",
        "      persona.append(random.choice(paterno))\n",
        "      persona.append(random.choice(materno))\n",
        "      persona.append(sexo[x])\n",
        "      edad = random.randint(18, 60)\n",
        "      persona.append(edad)\n",
        "\n",
        "      creado = dict(zip(llaves, persona))\n",
        "      lista.append(creado)\n",
        "      \n",
        "      print(\"Agregado. Deseas agregar otro?\")\n",
        "      otro = vali_num(1, 3, \"1.- Si\\n2.- No \")\n",
        "      if otro == 2:\n",
        "        break"
      ],
      "metadata": {
        "id": "GXQ6d3GIrTpD"
      },
      "execution_count": 30,
      "outputs": []
    },
    {
      "cell_type": "code",
      "source": [
        "def crea_manual(lista):\n",
        "    llaves = [\"Id\", \"Nombre\", \"Apellido paterno\", \"Apellido materno\", \"Sexo\", \"Edad\"]\n",
        "\n",
        "    while True:\n",
        "      persona = []\n",
        "      id_repet = 0\n",
        "      while id_repet == 0:\n",
        "          id = vali_num(0000, 5001, \"Ingresa el ID: \")\n",
        "          id_repet = vali_id(lista, id)\n",
        "\n",
        "      persona.append(id)\n",
        "      nombre = input(\"Ingresa tu nombre: \")\n",
        "      persona.append(nombre)\n",
        "      appat = input(\"Ingresa tu apellido paterno: \")\n",
        "      persona.append(appat)\n",
        "      apmat = input(\"Ingresa tu apellido materno: \")\n",
        "      persona.append(apmat)\n",
        "      sexo = vali_num(1, 3, \"Ingresa tu sexo\\n1.- Hombre\\n2.- Mujer \")\n",
        "      if sexo == 1:\n",
        "          sexo = \"H\"\n",
        "          persona.append(sexo)\n",
        "      if sexo == 2:\n",
        "          sexo = \"M\"\n",
        "          persona.append(sexo)\n",
        "      edad = vali_num(18, 61, \"Ingresa tu edad: \")\n",
        "      persona.append(edad)\n",
        "\n",
        "      creado = dict(zip(llaves, persona))\n",
        "      lista.append(creado)\n",
        "\n",
        "      print(\"Registro completo. Gustas agregar otro?\")\n",
        "      otro = vali_num(1, 3, \"1.- Si\\n2.- No \")\n",
        "      if otro == 2:\n",
        "          break"
      ],
      "metadata": {
        "id": "IT5W3Yn1raqU"
      },
      "execution_count": 31,
      "outputs": []
    },
    {
      "cell_type": "code",
      "source": [
        "def impri_lista(lista):\n",
        "    print(\"{:<20}{:<20}{:<20}{:<20}{:<20}{:<20}\".format('Id','Nombre','Apellido paterno','Apellido materno','Sexo','Edad'))\n",
        "    for diccionario in lista:\n",
        "      print(\"{:<20}{:<20}{:<20}{:<20}{:<20}{:<20}\".format(diccionario.get(\"Id\"), diccionario.get(\"Nombre\"), diccionario.get(\"Apellido paterno\"), diccionario.get(\"Apellido materno\"), diccionario.get(\"Sexo\"), diccionario.get(\"Edad\")))\n",
        "\n",
        "impri_lista(lista)"
      ],
      "metadata": {
        "colab": {
          "base_uri": "https://localhost:8080/",
          "height": 0
        },
        "id": "u8sDq0ikrgBv",
        "outputId": "4ff65a26-405b-4621-9478-2441f346c8f4"
      },
      "execution_count": 32,
      "outputs": [
        {
          "output_type": "stream",
          "name": "stdout",
          "text": [
            "Id                  Nombre              Apellido paterno    Apellido materno    Sexo                Edad                \n"
          ]
        }
      ]
    },
    {
      "cell_type": "code",
      "source": [
        "def busq_id(lista):\n",
        "    found = []\n",
        "    id_buscar = vali_num(1000, 5001, \"Ingresa el ID a buscar: \")\n",
        "\n",
        "    for diccionario in lista:\n",
        "        if diccionario.get(\"Id\") == id_buscar:\n",
        "          print(f\"Se encontro una persona con el ID: {id_buscar}\")\n",
        "          found.append(diccionario)\n",
        "\n",
        "          op = vali_num(1, 3, \"Desea ver la informacion?\\n1.- Si\\n2.- No  \")\n",
        "          if op == 1:\n",
        "            print(\"{:<20}{:<20}{:<20}{:<20}{:<20}{:<20}\".format('Id','Nombre','Apellido paterno','Apellido materno','Sexo','Edad'))\n",
        "            for diccionario in found:\n",
        "              print(\"{:<20}{:<20}{:<20}{:<20}{:<20}{:<20}\".format(diccionario.get(\"Id\"), diccionario.get(\"Nombre\"), diccionario.get(\"Apellido paterno\"), diccionario.get(\"Apellido materno\"), diccionario.get(\"Sexo\"), diccionario.get(\"Edad\")))\n",
        "        else:\n",
        "          print(f\"No se encontro una persona con el ID: {id_buscar}\")   "
      ],
      "metadata": {
        "id": "fN81jdYcrj5M"
      },
      "execution_count": 33,
      "outputs": []
    },
    {
      "cell_type": "code",
      "source": [
        "def ordena_lista(lista):\n",
        "    lista_ord = sorted(lista, key=itemgetter('Id'))\n",
        "    if lista_ord == lista:\n",
        "      print(\"La lista ya se encuentra ordenada\")\n",
        "    else:\n",
        "      print(\"Lista ordenada\")\n",
        "      lista = lista_ord\n",
        "      op = vali_num(1, 3, \"Gusta ver la lista ordenada?\\n1.- Si\\n2.- No \")\n",
        "      if op == 1:\n",
        "        impri_lista(lista)"
      ],
      "metadata": {
        "id": "a6IYPFWjrnEh"
      },
      "execution_count": 34,
      "outputs": []
    },
    {
      "cell_type": "code",
      "source": [
        "def vali_id(lista, id):\n",
        "    for diccionario in lista:\n",
        "      if diccionario.get(\"Id\") == id:\n",
        "        print(\"Esta ID ya existe, intenta otra\")\n",
        "        return 0\n",
        "\n",
        "    return 1"
      ],
      "metadata": {
        "id": "6rWJQ5CSryYY"
      },
      "execution_count": 35,
      "outputs": []
    },
    {
      "cell_type": "code",
      "source": [
        "def elim_id(lista):\n",
        "    found = []\n",
        "    id_elim = vali_num(1000, 5001, \"Ingresa el ID a eliminar: \")\n",
        "\n",
        "    for i, diccionario in enumerate(lista):\n",
        "        if diccionario.get(\"Id\") == id_elim:\n",
        "          print(f\"Se encontro una persona con el ID: {id_elim}\")\n",
        "          found.append(diccionario)\n",
        "\n",
        "          print(\"{:<20}{:<20}{:<20}{:<20}{:<20}{:<20}\".format('Id','Nombre','Apellido paterno','Apellido materno','Sexo','Edad'))\n",
        "          for diccionario in found:\n",
        "              print(\"{:<20}{:<20}{:<20}{:<20}{:<20}{:<20}\".format(diccionario.get(\"Id\"), diccionario.get(\"Nombre\"), diccionario.get(\"Apellido paterno\"), diccionario.get(\"Apellido materno\"), diccionario.get(\"Sexo\"), diccionario.get(\"Edad\")))\n",
        "\n",
        "          op = vali_num(1, 3, \"Esta seguro de querer eliminar esta entrada?\\n1.- Si\\n2.- No  \")\n",
        "          if op == 1:\n",
        "            print(f\"Se borro la entrada con el ID: {id_elim}\")\n",
        "            del lista[i]\n",
        "        \n",
        "        else:\n",
        "          print(f\"No se encontro una persona con el ID: {id_elim}\")"
      ],
      "metadata": {
        "id": "eBRD9Mvrr1IX"
      },
      "execution_count": 36,
      "outputs": []
    },
    {
      "cell_type": "code",
      "source": [
        "def menu():\n",
        "    print(\"Menu:\")\n",
        "    print(\"1.- Agregar automaticamente\")\n",
        "    print(\"2.- Agregar manualmente\")\n",
        "    print(\"3.- Imprimir lista\")\n",
        "    print(\"4.- Buscar ID\")\n",
        "    print(\"5.- Ordenar lista\")\n",
        "    print(\"6.- Eliminar ID\")\n",
        "    print(\"7.- Eliminar lista\")\n",
        "    print(\"0.- Salir\")"
      ],
      "metadata": {
        "id": "CTJqHRtLr5Pg"
      },
      "execution_count": 37,
      "outputs": []
    },
    {
      "cell_type": "code",
      "source": [
        "lista = []\n",
        "while True:\n",
        "  menu()\n",
        "  opcion = vali_num(0, 8, \"Ingresa la funcion que quieres utilizar: \")\n",
        "\n",
        "  if opcion == 1:\n",
        "    crea_aleatorio(lista)\n",
        "    \n",
        "    input(\"Presiona ENTER para continuar \")\n",
        "    clear_output()\n",
        "    continue\n",
        "  elif opcion == 2:\n",
        "    crea_manual(lista)\n",
        "    input(\"Presiona ENTER para continuar\")\n",
        "    clear_output()\n",
        "    continue\n",
        "  elif opcion == 3:\n",
        "    impri_lista(lista)\n",
        "    input(\"Presiona ENTER para continuar\")\n",
        "    clear_output()\n",
        "    continue\n",
        "  elif opcion == 4:\n",
        "    busq_id(lista)\n",
        "    input(\"Presiona ENTER para continuar\")\n",
        "    clear_output()\n",
        "    continue\n",
        "  elif opcion == 5:\n",
        "    ordena_lista(lista)\n",
        "    input(\"Presiona ENTER para continuar\")\n",
        "    clear_output()\n",
        "    continue\n",
        "  elif opcion == 6:\n",
        "    elim_id(lista)\n",
        "    input(\"Presiona ENTER para continuar\")\n",
        "    clear_output()\n",
        "    continue\n",
        "  elif opcion == 7:\n",
        "    lista = []\n",
        "    print(\"Lista eliminada.\")\n",
        "    input(\"Presiona ENTER para continuar\")\n",
        "    continue\n",
        "  elif opcion == 0:\n",
        "    break"
      ],
      "metadata": {
        "colab": {
          "base_uri": "https://localhost:8080/",
          "height": 0
        },
        "id": "8PojZfzar-0m",
        "outputId": "59013c8b-3ffe-4df8-9ef7-af6ed5ee95fe"
      },
      "execution_count": null,
      "outputs": [
        {
          "output_type": "stream",
          "name": "stdout",
          "text": [
            "Menu:\n",
            "1.- Agregar automaticamente\n",
            "2.- Agregar manualmente\n",
            "3.- Imprimir lista\n",
            "4.- Buscar ID\n",
            "5.- Ordenar lista\n",
            "6.- Eliminar ID\n",
            "7.- Eliminar lista\n",
            "0.- Salir\n",
            "Ingresa la funcion que quieres utilizar: 3\n",
            "Id                  Nombre              Apellido paterno    Apellido materno    Sexo                Edad                \n",
            "2567                MANUEL              HERNANDEZ           PEREZ               H                   22                  \n"
          ]
        }
      ]
    }
  ],
  "metadata": {
    "colab": {
      "provenance": [],
      "authorship_tag": "ABX9TyMrq/iJ6tUr6/uA5hPaT0xq",
      "include_colab_link": true
    },
    "kernelspec": {
      "display_name": "Python 3",
      "name": "python3"
    },
    "language_info": {
      "name": "python"
    }
  },
  "nbformat": 4,
  "nbformat_minor": 0
}