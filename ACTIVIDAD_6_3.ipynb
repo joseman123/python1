{
  "nbformat": 4,
  "nbformat_minor": 0,
  "metadata": {
    "colab": {
      "provenance": [],
      "authorship_tag": "ABX9TyOlmTDwOuiD7DwC7CetqHEj",
      "include_colab_link": true
    },
    "kernelspec": {
      "name": "python3",
      "display_name": "Python 3"
    },
    "language_info": {
      "name": "python"
    }
  },
  "cells": [
    {
      "cell_type": "markdown",
      "metadata": {
        "id": "view-in-github",
        "colab_type": "text"
      },
      "source": [
        "<a href=\"https://colab.research.google.com/github/joseman123/python1/blob/main/ACTIVIDAD_6_3.ipynb\" target=\"_parent\"><img src=\"https://colab.research.google.com/assets/colab-badge.svg\" alt=\"Open In Colab\"/></a>"
      ]
    },
    {
      "cell_type": "markdown",
      "source": [
        "3.- FUNCIÓN QUE SIRVA PARA LEER UN RANGO DADO POR EL USUARIO. REPETIR ESTA ACCIÓN HASTA QUE EL USUARIO LO DESEE, DESPLEGAR CANTIDAD DE NUMEROS Y PROMEDIO DE LOS NUMEROS.."
      ],
      "metadata": {
        "id": "IgZMGNAHxnOP"
      }
    },
    {
      "cell_type": "code",
      "execution_count": null,
      "metadata": {
        "id": "NslNrmCBwmAo"
      },
      "outputs": [],
      "source": [
        "import random"
      ]
    },
    {
      "cell_type": "code",
      "source": [
        "rango = int(input(\"escriba el rango de los numeros:\"))"
      ],
      "metadata": {
        "colab": {
          "base_uri": "https://localhost:8080/"
        },
        "id": "1Y8_oTvMwz40",
        "outputId": "f84127fa-a61f-4b31-f6f8-eecaafe5e273"
      },
      "execution_count": null,
      "outputs": [
        {
          "name": "stdout",
          "output_type": "stream",
          "text": [
            "escriba el rango de los numeros:5\n"
          ]
        }
      ]
    },
    {
      "cell_type": "code",
      "source": [
        "numeros = []\n",
        "while True:\n",
        "  try:\n",
        "      función_valida_num = int(input(\"ingrese un numero: \"))\n",
        "      if función_valida_num == 0:\n",
        "        break\n",
        "      elif función_valida_num < 0 or función_valida_num > rango:\n",
        "        print(\"el numero debe estar dentro del rango\")\n",
        "      \n",
        "      else:\n",
        "        numeros.append(función_valida_num)\n",
        "  except:\n",
        "    ValueError\n",
        "    print(\"error,no se permiten letras\")\n"
      ],
      "metadata": {
        "colab": {
          "base_uri": "https://localhost:8080/"
        },
        "id": "8YBblPbjxBYx",
        "outputId": "c56420b2-9a8a-42c1-87c8-96048ac7db76"
      },
      "execution_count": null,
      "outputs": [
        {
          "name": "stdout",
          "output_type": "stream",
          "text": [
            "ingrese un numero: 1\n",
            "ingrese un numero: 2\n",
            "ingrese un numero: 3\n",
            "ingrese un numero: 4\n",
            "ingrese un numero: 0\n"
          ]
        }
      ]
    },
    {
      "cell_type": "code",
      "source": [
        "promedio = sum(numeros)/len(numeros)\n",
        "print(\"el promedio es:\",promedio)\n"
      ],
      "metadata": {
        "colab": {
          "base_uri": "https://localhost:8080/"
        },
        "id": "3HmuqbVjxsJf",
        "outputId": "d138e518-c78d-4e70-b6f7-07d625fc92b9"
      },
      "execution_count": null,
      "outputs": [
        {
          "output_type": "stream",
          "name": "stdout",
          "text": [
            "el promedio es: 2.5\n"
          ]
        }
      ]
    }
  ]
}