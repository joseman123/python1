{
  "nbformat": 4,
  "nbformat_minor": 0,
  "metadata": {
    "colab": {
      "provenance": [],
      "authorship_tag": "ABX9TyPBSCYNCWpRwObz3rYhVqPg",
      "include_colab_link": true
    },
    "kernelspec": {
      "name": "python3",
      "display_name": "Python 3"
    },
    "language_info": {
      "name": "python"
    }
  },
  "cells": [
    {
      "cell_type": "markdown",
      "metadata": {
        "id": "view-in-github",
        "colab_type": "text"
      },
      "source": [
        "<a href=\"https://colab.research.google.com/github/joseman123/python1/blob/main/ACTIVIDAD_8.ipynb\" target=\"_parent\"><img src=\"https://colab.research.google.com/assets/colab-badge.svg\" alt=\"Open In Colab\"/></a>"
      ]
    },
    {
      "cell_type": "markdown",
      "source": [
        "#JOSE MANUEL HERNANDEZ SANTIAGO\n",
        "\n",
        "#ACTIVIDAD 8\n",
        "\n",
        "#PROGRAMCION PHYTON\n",
        "\n",
        "#GRUPO 432"
      ],
      "metadata": {
        "id": "WINZHhareKyA"
      }
    },
    {
      "cell_type": "markdown",
      "source": [
        "#1.- Programa en python que genere un número entre el 1 y 10 (no visible)  preguntarle al usuario que número cree que generó la computadora, el usuario tendrá 3 oportunidades de adivinar. \n",
        "\n",
        "Decir si adivino o si falló en sus 3 intentos.\n",
        "\n",
        " \n",
        "\n",
        "NOTA: 100% VALIDADO (usar función para validar números)\n",
        "\n",
        " \n",
        "\n",
        "NOTA2: El usuario podrá jugar cuantas veces lo desee, al final del juego desplegar cantidad de ganados y perdidos\n",
        "\n",
        " "
      ],
      "metadata": {
        "id": "WnayIJH75CeF"
      }
    },
    {
      "cell_type": "code",
      "source": [
        "import random"
      ],
      "metadata": {
        "id": "qk5Ak7VOalMf"
      },
      "execution_count": 13,
      "outputs": []
    },
    {
      "cell_type": "code",
      "source": [
        "def validar_numero(respuesta):\n",
        "   \n",
        "    if respuesta.isdigit():\n",
        "        numero = int(respuesta)\n",
        "        if numero >= 1 and numero <= 10:\n",
        "            return True\n",
        "    return False\n"
      ],
      "metadata": {
        "id": "QVwkD64papNB"
      },
      "execution_count": 14,
      "outputs": []
    },
    {
      "cell_type": "code",
      "source": [
        "def jugar():\n",
        " \n",
        "    numero_secreto = random.randint(1, 10)\n",
        "    for intento in range(1, 4):\n",
        "        respuesta = input(f\"Intento #{intento}: Adivina el número secreto (entre 1 y 10): \")\n",
        "        if validar_numero(respuesta):\n",
        "            numero_usuario = int(respuesta)\n",
        "            if numero_usuario == numero_secreto:\n",
        "                print(\"¡Felicidades, adivinaste!\")\n",
        "                return True\n",
        "            else:\n",
        "                print(f\"No, el número secreto no es {numero_usuario}.\")\n",
        "        else:\n",
        "            print(\"Respuesta inválida. Ingresa un número entre 1 y 10.\")\n",
        "    print(f\"Lo siento, perdiste. El número secreto era {numero_secreto}.\")\n",
        "    return False\n",
        "\n",
        "ganados = 0\n",
        "perdidos = 0\n",
        "while True:\n",
        "    print(\"Bienvenido al juego de adivinanza.\")\n",
        "    if jugar():\n",
        "        ganados += 1\n",
        "    else:\n",
        "        perdidos += 1\n",
        "    respuesta = input(\"¿Quieres jugar de nuevo? \")\n",
        "    if respuesta.lower() != \"s\":\n",
        "        break\n",
        "print(f\"Ganados: {ganados}  Perdidos: {perdidos}\")"
      ],
      "metadata": {
        "colab": {
          "base_uri": "https://localhost:8080/",
          "height": 0
        },
        "id": "2TKLXLHTbZUq",
        "outputId": "d22638ba-b077-464f-dcd6-29dc2d88dce0"
      },
      "execution_count": 15,
      "outputs": [
        {
          "output_type": "stream",
          "name": "stdout",
          "text": [
            "Bienvenido al juego de adivinanza.\n",
            "Intento #1: Adivina el número secreto (entre 1 y 10): 1\n",
            "No, el número secreto no es 1.\n",
            "Intento #2: Adivina el número secreto (entre 1 y 10): 2\n",
            "No, el número secreto no es 2.\n",
            "Intento #3: Adivina el número secreto (entre 1 y 10): 5\n",
            "No, el número secreto no es 5.\n",
            "Lo siento, perdiste. El número secreto era 8.\n",
            "¿Quieres jugar de nuevo? (s/n) 0\n",
            "Ganados: 0  Perdidos: 1\n"
          ]
        }
      ]
    },
    {
      "cell_type": "markdown",
      "source": [
        "#2.- El juego Busca Número muestra una lista de 10 numeros, sin mostrar su contenido, \n",
        "\n",
        "#Al usuario se le muestra un número que se generó aleatoriamente y el usuario tendrá 3 intentos de adivinar en qué índice del arreglo se encuentra. \n",
        "\n",
        "#El usuario recibirá un mensaje que diga GANASTE, PERDISTE, TIENES UN NUEVO INTENTO\n",
        "\n",
        "# El usuario podrá jugar cuantas veces lo desee."
      ],
      "metadata": {
        "id": "biX0bUnGbzbg"
      }
    },
    {
      "cell_type": "markdown",
      "source": [
        "NOTA: REALIZA 3 VERSIONES DIFERENTES DEL LLENADO DE LA LISTA ALEATORIA\n",
        "\n",
        "#VERSIÓN A) Usar ciclos para validar los repetidos, y sólo random para generar los números dentro del rango\n",
        "\n",
        "\n",
        "\n",
        "#VERSIÓN B) Usa funciones de la librería Random para llenar la lista con los número sin repetir\n",
        "\n",
        "\n",
        "\n",
        "#VERSIÓN C) Usa funciones de la librería Random para llenar la lista con los número sin repetir\n"
      ],
      "metadata": {
        "id": "53YwbP6FdVv5"
      }
    },
    {
      "cell_type": "markdown",
      "source": [
        "#A)"
      ],
      "metadata": {
        "id": "KR3xNzTndYZL"
      }
    },
    {
      "cell_type": "code",
      "source": [
        "import random\n",
        "\n",
        "def generar_lista_aleatoria_a():\n",
        "    numeros = []\n",
        "    while len(numeros) < 10:\n",
        "        num = random.randint(1, 10)\n",
        "        if num not in numeros:\n",
        "            numeros.append(num)\n",
        "    return numeros\n",
        "\n",
        "\n",
        "def jugar_busca_numero_a():\n",
        "    lista_numeros = generar_lista_aleatoria_a()\n",
        "    num_aleatorio = random.choice(lista_numeros)\n",
        "    intentos = 3\n",
        "    while intentos > 0:\n",
        "        print(\"La lista de números es:\", lista_numeros)\n",
        "        num_usuario = int(input(\"Adivina en qué índice se encuentra el número aleatorio: \"))\n",
        "        if num_usuario < 0 or num_usuario > 9:\n",
        "            print(\"El índice debe estar entre 0 y 9\")\n",
        "        elif lista_numeros[num_usuario] == num_aleatorio:\n",
        "            print(\"¡GANASTE!\")\n",
        "            return\n",
        "        else:\n",
        "            intentos -= 1\n",
        "            if intentos == 0:\n",
        "                print(\"PERDISTE. El número aleatorio era\", num_aleatorio)\n",
        "            else:\n",
        "                print(\"Incorrecto. Te quedan\", intentos, \"intentos. Tienes un nuevo intento.\")\n"
      ],
      "metadata": {
        "colab": {
          "base_uri": "https://localhost:8080/",
          "height": 0
        },
        "id": "5ET4_CSkcuvf",
        "outputId": "eac1ba30-d615-43ca-9389-a776b5b12960"
      },
      "execution_count": 20,
      "outputs": [
        {
          "output_type": "stream",
          "name": "stdout",
          "text": [
            "La lista de números es: [6, 7, 10, 8, 3, 4, 5, 2, 1, 9]\n",
            "Adivina en qué índice se encuentra el número aleatorio: 7\n",
            "Incorrecto. Te quedan 2 intentos. Tienes un nuevo intento.\n",
            "La lista de números es: [6, 7, 10, 8, 3, 4, 5, 2, 1, 9]\n",
            "Adivina en qué índice se encuentra el número aleatorio: 5\n",
            "Incorrecto. Te quedan 1 intentos. Tienes un nuevo intento.\n",
            "La lista de números es: [6, 7, 10, 8, 3, 4, 5, 2, 1, 9]\n",
            "Adivina en qué índice se encuentra el número aleatorio: 1\n",
            "PERDISTE. El número aleatorio era 10\n"
          ]
        }
      ]
    },
    {
      "cell_type": "markdown",
      "source": [
        "# B)"
      ],
      "metadata": {
        "id": "kZgiqOBRdbPj"
      }
    },
    {
      "cell_type": "code",
      "source": [
        "import random\n",
        "\n",
        "def generar_lista_aleatoria_b():\n",
        "    numeros = random.sample(range(1, 11), 10)\n",
        "    return numeros\n",
        "\n",
        "\n",
        "def jugar_busca_numero_b():\n",
        "    lista_numeros = generar_lista_aleatoria_b()\n",
        "    num_aleatorio = random.choice(lista_numeros)\n",
        "    intentos = 3\n",
        "    while intentos > 0:\n",
        "        print(\"La lista de números es:\", lista_numeros)\n",
        "        num_usuario = int(input(\"Adivina en qué índice se encuentra el número aleatorio: \"))\n",
        "        if num_usuario < 0 or num_usuario > 9:\n",
        "            print(\"El índice debe estar entre 0 y 9\")\n",
        "        elif lista_numeros[num_usuario] == num_aleatorio:\n",
        "            print(\"¡GANASTE!\")\n",
        "            return\n",
        "        else:\n",
        "            intentos -= 1\n",
        "            if intentos == 0:\n",
        "                print(\"PERDISTE. El número aleatorio era\", num_aleatorio)\n",
        "            else:\n",
        "                print(\"Incorrecto. Te quedan\", intentos, \"intentos. Tienes un nuevo intento.\")\n"
      ],
      "metadata": {
        "colab": {
          "base_uri": "https://localhost:8080/",
          "height": 0
        },
        "id": "deuCSe2AdcX9",
        "outputId": "a189d12d-6dcc-453e-901b-1a5e0f98bfc3"
      },
      "execution_count": 21,
      "outputs": [
        {
          "output_type": "stream",
          "name": "stdout",
          "text": [
            "La lista de números es: [4, 7, 9, 10, 3, 2, 6, 1, 5, 8]\n",
            "Adivina en qué índice se encuentra el número aleatorio: 5\n",
            "Incorrecto. Te quedan 2 intentos. Tienes un nuevo intento.\n",
            "La lista de números es: [4, 7, 9, 10, 3, 2, 6, 1, 5, 8]\n",
            "Adivina en qué índice se encuentra el número aleatorio: 7\n",
            "Incorrecto. Te quedan 1 intentos. Tienes un nuevo intento.\n",
            "La lista de números es: [4, 7, 9, 10, 3, 2, 6, 1, 5, 8]\n",
            "Adivina en qué índice se encuentra el número aleatorio: 2\n",
            "PERDISTE. El número aleatorio era 6\n"
          ]
        }
      ]
    },
    {
      "cell_type": "markdown",
      "source": [
        "# C)"
      ],
      "metadata": {
        "id": "jcrlFoJndk5U"
      }
    },
    {
      "cell_type": "code",
      "source": [
        "import random\n",
        "\n",
        "def generar_lista_aleatoria_c():\n",
        "    numeros = list(range(1, 11))\n",
        "    random.shuffle(numeros)\n",
        "    return [num-1 for num in numeros]\n",
        "\n",
        "def jugar_busca_numero_c():\n",
        "    lista_numeros = generar_lista_aleatoria_c()\n",
        "    num_aleatorio = random.choice(lista_numeros)\n",
        "    intentos = 3\n",
        "    while intentos > 0:\n",
        "        print(\"La lista de números es:\", lista_numeros)\n",
        "        num_usuario = int(input(\"Adivina en qué índice se encuentra el número aleatorio: \"))\n",
        "        if num_usuario < 0 or num_usuario > 9:\n",
        "            print(\"El índice debe estar entre 0 y 9\")\n",
        "        elif lista_numeros[num_usuario] == num_aleatorio:\n",
        "            print(\"¡GANASTE!\")\n",
        "            return\n",
        "        else:\n",
        "            intentos -= 1\n",
        "            if intentos == 0:\n",
        "                print(\"PERDISTE. El número aleatorio era\", num_aleatorio)\n",
        "            else:\n",
        "                print(\"Incorrecto. Te quedan\", intentos, \"intentos. Tienes un nuevo intento.\")\n"
      ],
      "metadata": {
        "colab": {
          "base_uri": "https://localhost:8080/",
          "height": 0
        },
        "id": "QMmri8bBd9Bc",
        "outputId": "51466bf6-c8a2-41c1-a618-fa12bb7566d2"
      },
      "execution_count": 25,
      "outputs": [
        {
          "output_type": "stream",
          "name": "stdout",
          "text": [
            "La lista de números es: [5, 3, 9, 1, 4, 2, 0, 6, 7, 8]\n",
            "Adivina en qué índice se encuentra el número aleatorio: 5\n",
            "Incorrecto. Te quedan 2 intentos. Tienes un nuevo intento.\n",
            "La lista de números es: [5, 3, 9, 1, 4, 2, 0, 6, 7, 8]\n",
            "Adivina en qué índice se encuentra el número aleatorio: 4\n",
            "Incorrecto. Te quedan 1 intentos. Tienes un nuevo intento.\n",
            "La lista de números es: [5, 3, 9, 1, 4, 2, 0, 6, 7, 8]\n",
            "Adivina en qué índice se encuentra el número aleatorio: 2\n",
            "PERDISTE. El número aleatorio era 8\n"
          ]
        }
      ]
    }
  ]
}