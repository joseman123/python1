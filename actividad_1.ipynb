{
  "nbformat": 4,
  "nbformat_minor": 0,
  "metadata": {
    "colab": {
      "provenance": [],
      "authorship_tag": "ABX9TyONOyPAIbFjjwkNoQXErA5m",
      "include_colab_link": true
    },
    "kernelspec": {
      "name": "python3",
      "display_name": "Python 3"
    },
    "language_info": {
      "name": "python"
    }
  },
  "cells": [
    {
      "cell_type": "markdown",
      "metadata": {
        "id": "view-in-github",
        "colab_type": "text"
      },
      "source": [
        "<a href=\"https://colab.research.google.com/github/joseman123/python1/blob/main/actividad_1.ipynb\" target=\"_parent\"><img src=\"https://colab.research.google.com/assets/colab-badge.svg\" alt=\"Open In Colab\"/></a>"
      ]
    },
    {
      "cell_type": "markdown",
      "source": [
        "1.- Programa en Python Mostrar un mensaje que diga “HOLA MUNDO” en un solo renglón usando 2 print"
      ],
      "metadata": {
        "id": "K-uEY8kYfMwC"
      }
    },
    {
      "cell_type": "code",
      "execution_count": 1,
      "metadata": {
        "colab": {
          "base_uri": "https://localhost:8080/"
        },
        "id": "f9UllsUMfJKp",
        "outputId": "7a1a8b54-9b3e-496a-ce61-33339bf7a5fc"
      },
      "outputs": [
        {
          "output_type": "stream",
          "name": "stdout",
          "text": [
            "HOLA  MUNDO\n"
          ]
        }
      ],
      "source": [
        "print (\"HOLA \", end=\" \")\n",
        "print (\"MUNDO\")"
      ]
    },
    {
      "cell_type": "markdown",
      "source": [
        "2.- Programa en Python que lea 2 números, realizar la suma y desplegar la suma de los 2 números"
      ],
      "metadata": {
        "id": "I_AEyyBWfsQB"
      }
    },
    {
      "cell_type": "code",
      "source": [
        "num1 = 7\n",
        "num2 = 5\n",
        "suma = num1+num2\n",
        "print(num1,\" + \",num2,\" = \",suma)"
      ],
      "metadata": {
        "colab": {
          "base_uri": "https://localhost:8080/"
        },
        "id": "J0x2g3o5f4gL",
        "outputId": "78917b84-4d90-4f66-99ac-b0bb567b1287"
      },
      "execution_count": null,
      "outputs": [
        {
          "output_type": "stream",
          "name": "stdout",
          "text": [
            "7  +  5  =  12\n"
          ]
        }
      ]
    },
    {
      "cell_type": "markdown",
      "source": [
        "3.- Programa en Python que lea 2 números y realice las 4 operaciones básicas"
      ],
      "metadata": {
        "id": "57AjgBs0iHT4"
      }
    },
    {
      "cell_type": "code",
      "source": [
        "num1 = 5\n",
        "num2 = 7\n",
        "suma = num1+num2\n",
        "resta = num1-num2\n",
        "multiplicacion = num1*num2\n",
        "division = num1/num2\n",
        "print(num1,\" + \",num2,\" = \",suma)\n",
        "print(num1,\" - \",num2,\" = \",resta)\n",
        "print(num1,\" * \",num2,\" = \",multiplicacion)\n",
        "print(num1,\" / \",num2,\" = \",division)\n"
      ],
      "metadata": {
        "colab": {
          "base_uri": "https://localhost:8080/"
        },
        "id": "PIyn1NuyiQBU",
        "outputId": "b790b068-7d46-4855-930d-56466242e531"
      },
      "execution_count": null,
      "outputs": [
        {
          "output_type": "stream",
          "name": "stdout",
          "text": [
            "5  +  7  =  12\n",
            "5  -  7  =  -2\n",
            "5  *  7  =  35\n",
            "5  /  7  =  0.7142857142857143\n"
          ]
        }
      ]
    },
    {
      "cell_type": "markdown",
      "source": [
        "4.- Programa en Python Que sirva para calcular el área de un triángulo"
      ],
      "metadata": {
        "id": "jIZdtNrZjoH4"
      }
    },
    {
      "cell_type": "code",
      "source": [
        "base = 5\n",
        "altura = 10\n",
        "area = base*altura/2\n",
        "print(base,\" * \",altura,\" /2 \",\" = \",area)"
      ],
      "metadata": {
        "colab": {
          "base_uri": "https://localhost:8080/"
        },
        "id": "na2NxKwljxzr",
        "outputId": "80a903cd-c224-4dcc-aa94-0c63cd3ac18b"
      },
      "execution_count": null,
      "outputs": [
        {
          "output_type": "stream",
          "name": "stdout",
          "text": [
            "5  *  10  /2   =  25.0\n"
          ]
        }
      ]
    },
    {
      "cell_type": "markdown",
      "source": [
        " 5.-Programa en Python que lea una medida en centímetros y desplegar la misma medida pero convertida en pies y pulgadas"
      ],
      "metadata": {
        "id": "UkwLZccJkki3"
      }
    },
    {
      "cell_type": "code",
      "source": [
        "pies = 3.2\n",
        "pulgadas = pies*12\n",
        "print(pies,\" *12 \",\" = \",pulgadas)"
      ],
      "metadata": {
        "colab": {
          "base_uri": "https://localhost:8080/"
        },
        "id": "2RaNQyyvjvNw",
        "outputId": "ce471afc-4671-4a1d-87f3-5d97cb24061f"
      },
      "execution_count": null,
      "outputs": [
        {
          "output_type": "stream",
          "name": "stdout",
          "text": [
            "3.2  *12   =  38.400000000000006\n"
          ]
        }
      ]
    },
    {
      "cell_type": "markdown",
      "source": [
        "6.- Programa en Python que lea una temperatura en grados centígrados y desplegarla en Grados Fahrenheit y grados kelvin"
      ],
      "metadata": {
        "id": "ZWotE9Tkop-7"
      }
    },
    {
      "cell_type": "code",
      "source": [
        "centigrados = 40\n",
        "fahrenheit = centigrados*9/5+32\n",
        "kelvin = centigrados+273.15\n",
        "print(centigrados,\" *9/5+32 \",\" = \",fahrenheit)\n",
        "print(centigrados,\" +273.15 \",\" = \",kelvin)"
      ],
      "metadata": {
        "colab": {
          "base_uri": "https://localhost:8080/"
        },
        "id": "K1ahXztoo15i",
        "outputId": "7992af4e-0e6c-490c-aebb-cc1237e102f2"
      },
      "execution_count": null,
      "outputs": [
        {
          "output_type": "stream",
          "name": "stdout",
          "text": [
            "40  *9/5+32   =  104.0\n",
            "40  +273.15   =  313.15\n"
          ]
        }
      ]
    },
    {
      "cell_type": "markdown",
      "source": [
        "7.- Programa en Python que lea 4 calificaciones de un alumno,\n",
        "desplegar el promedio del alumno"
      ],
      "metadata": {
        "id": "Cxz_CN-nr5oL"
      }
    },
    {
      "cell_type": "code",
      "source": [
        "cal1 = 5\n",
        "cal2 = 7\n",
        "cal3 = 10\n",
        "cal4 = 8\n",
        "promedio = (cal1+cal2+cal3+cal4)/4\n",
        "print(cal1,\" + \",cal2,\" + \",cal3,\" + \",cal4,\"/4 \",\" = \",promedio)"
      ],
      "metadata": {
        "colab": {
          "base_uri": "https://localhost:8080/"
        },
        "id": "P46SohQ8sDY9",
        "outputId": "563add64-1d7e-4b78-fa22-2dfae2747fec"
      },
      "execution_count": null,
      "outputs": [
        {
          "output_type": "stream",
          "name": "stdout",
          "text": [
            "5  +  7  +  10  +  8 /4   =  7.5\n"
          ]
        }
      ]
    }
  ]
}